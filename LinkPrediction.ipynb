{
  "nbformat": 4,
  "nbformat_minor": 0,
  "metadata": {
    "colab": {
      "name": "LinkPrediction.ipynb",
      "provenance": [],
      "collapsed_sections": []
    },
    "kernelspec": {
      "display_name": "Python 3",
      "language": "python",
      "name": "python3"
    },
    "language_info": {
      "codemirror_mode": {
        "name": "ipython",
        "version": 3
      },
      "file_extension": ".py",
      "mimetype": "text/x-python",
      "name": "python",
      "nbconvert_exporter": "python",
      "pygments_lexer": "ipython3",
      "version": "3.9.2"
    },
    "widgets": {
      "application/vnd.jupyter.widget-state+json": {
        "8e7e7ff8e7c64411af6ba5e77e2bf357": {
          "model_module": "@jupyter-widgets/controls",
          "model_name": "HBoxModel",
          "state": {
            "_view_name": "HBoxView",
            "_dom_classes": [],
            "_model_name": "HBoxModel",
            "_view_module": "@jupyter-widgets/controls",
            "_model_module_version": "1.5.0",
            "_view_count": null,
            "_view_module_version": "1.5.0",
            "box_style": "",
            "layout": "IPY_MODEL_98d8ee6b6e114e97935adda090c41217",
            "_model_module": "@jupyter-widgets/controls",
            "children": [
              "IPY_MODEL_434978e77b4d49628ca942b32c2780b3",
              "IPY_MODEL_44333a2b980046d18b0621ab606bb10e"
            ]
          }
        },
        "98d8ee6b6e114e97935adda090c41217": {
          "model_module": "@jupyter-widgets/base",
          "model_name": "LayoutModel",
          "state": {
            "_view_name": "LayoutView",
            "grid_template_rows": null,
            "right": null,
            "justify_content": null,
            "_view_module": "@jupyter-widgets/base",
            "overflow": null,
            "_model_module_version": "1.2.0",
            "_view_count": null,
            "flex_flow": null,
            "width": null,
            "min_width": null,
            "border": null,
            "align_items": null,
            "bottom": null,
            "_model_module": "@jupyter-widgets/base",
            "top": null,
            "grid_column": null,
            "overflow_y": null,
            "overflow_x": null,
            "grid_auto_flow": null,
            "grid_area": null,
            "grid_template_columns": null,
            "flex": null,
            "_model_name": "LayoutModel",
            "justify_items": null,
            "grid_row": null,
            "max_height": null,
            "align_content": null,
            "visibility": null,
            "align_self": null,
            "height": null,
            "min_height": null,
            "padding": null,
            "grid_auto_rows": null,
            "grid_gap": null,
            "max_width": null,
            "order": null,
            "_view_module_version": "1.2.0",
            "grid_template_areas": null,
            "object_position": null,
            "object_fit": null,
            "grid_auto_columns": null,
            "margin": null,
            "display": null,
            "left": null
          }
        },
        "434978e77b4d49628ca942b32c2780b3": {
          "model_module": "@jupyter-widgets/controls",
          "model_name": "FloatProgressModel",
          "state": {
            "_view_name": "ProgressView",
            "style": "IPY_MODEL_e773b2be49e64a4cae6f5b31f54c54b6",
            "_dom_classes": [],
            "description": "Computing transition probabilities: 100%",
            "_model_name": "FloatProgressModel",
            "bar_style": "success",
            "max": 1707,
            "_view_module": "@jupyter-widgets/controls",
            "_model_module_version": "1.5.0",
            "value": 1707,
            "_view_count": null,
            "_view_module_version": "1.5.0",
            "orientation": "horizontal",
            "min": 0,
            "description_tooltip": null,
            "_model_module": "@jupyter-widgets/controls",
            "layout": "IPY_MODEL_17378043fa4445178a01d7aab6708ee8"
          }
        },
        "44333a2b980046d18b0621ab606bb10e": {
          "model_module": "@jupyter-widgets/controls",
          "model_name": "HTMLModel",
          "state": {
            "_view_name": "HTMLView",
            "style": "IPY_MODEL_cbd774231c76458fb324e7ea6ced0625",
            "_dom_classes": [],
            "description": "",
            "_model_name": "HTMLModel",
            "placeholder": "​",
            "_view_module": "@jupyter-widgets/controls",
            "_model_module_version": "1.5.0",
            "value": " 1707/1707 [00:00&lt;00:00, 3197.17it/s]",
            "_view_count": null,
            "_view_module_version": "1.5.0",
            "description_tooltip": null,
            "_model_module": "@jupyter-widgets/controls",
            "layout": "IPY_MODEL_c4984b60be514dd5bedabe06320a4f4a"
          }
        },
        "e773b2be49e64a4cae6f5b31f54c54b6": {
          "model_module": "@jupyter-widgets/controls",
          "model_name": "ProgressStyleModel",
          "state": {
            "_view_name": "StyleView",
            "_model_name": "ProgressStyleModel",
            "description_width": "initial",
            "_view_module": "@jupyter-widgets/base",
            "_model_module_version": "1.5.0",
            "_view_count": null,
            "_view_module_version": "1.2.0",
            "bar_color": null,
            "_model_module": "@jupyter-widgets/controls"
          }
        },
        "17378043fa4445178a01d7aab6708ee8": {
          "model_module": "@jupyter-widgets/base",
          "model_name": "LayoutModel",
          "state": {
            "_view_name": "LayoutView",
            "grid_template_rows": null,
            "right": null,
            "justify_content": null,
            "_view_module": "@jupyter-widgets/base",
            "overflow": null,
            "_model_module_version": "1.2.0",
            "_view_count": null,
            "flex_flow": null,
            "width": null,
            "min_width": null,
            "border": null,
            "align_items": null,
            "bottom": null,
            "_model_module": "@jupyter-widgets/base",
            "top": null,
            "grid_column": null,
            "overflow_y": null,
            "overflow_x": null,
            "grid_auto_flow": null,
            "grid_area": null,
            "grid_template_columns": null,
            "flex": null,
            "_model_name": "LayoutModel",
            "justify_items": null,
            "grid_row": null,
            "max_height": null,
            "align_content": null,
            "visibility": null,
            "align_self": null,
            "height": null,
            "min_height": null,
            "padding": null,
            "grid_auto_rows": null,
            "grid_gap": null,
            "max_width": null,
            "order": null,
            "_view_module_version": "1.2.0",
            "grid_template_areas": null,
            "object_position": null,
            "object_fit": null,
            "grid_auto_columns": null,
            "margin": null,
            "display": null,
            "left": null
          }
        },
        "cbd774231c76458fb324e7ea6ced0625": {
          "model_module": "@jupyter-widgets/controls",
          "model_name": "DescriptionStyleModel",
          "state": {
            "_view_name": "StyleView",
            "_model_name": "DescriptionStyleModel",
            "description_width": "",
            "_view_module": "@jupyter-widgets/base",
            "_model_module_version": "1.5.0",
            "_view_count": null,
            "_view_module_version": "1.2.0",
            "_model_module": "@jupyter-widgets/controls"
          }
        },
        "c4984b60be514dd5bedabe06320a4f4a": {
          "model_module": "@jupyter-widgets/base",
          "model_name": "LayoutModel",
          "state": {
            "_view_name": "LayoutView",
            "grid_template_rows": null,
            "right": null,
            "justify_content": null,
            "_view_module": "@jupyter-widgets/base",
            "overflow": null,
            "_model_module_version": "1.2.0",
            "_view_count": null,
            "flex_flow": null,
            "width": null,
            "min_width": null,
            "border": null,
            "align_items": null,
            "bottom": null,
            "_model_module": "@jupyter-widgets/base",
            "top": null,
            "grid_column": null,
            "overflow_y": null,
            "overflow_x": null,
            "grid_auto_flow": null,
            "grid_area": null,
            "grid_template_columns": null,
            "flex": null,
            "_model_name": "LayoutModel",
            "justify_items": null,
            "grid_row": null,
            "max_height": null,
            "align_content": null,
            "visibility": null,
            "align_self": null,
            "height": null,
            "min_height": null,
            "padding": null,
            "grid_auto_rows": null,
            "grid_gap": null,
            "max_width": null,
            "order": null,
            "_view_module_version": "1.2.0",
            "grid_template_areas": null,
            "object_position": null,
            "object_fit": null,
            "grid_auto_columns": null,
            "margin": null,
            "display": null,
            "left": null
          }
        }
      }
    }
  },
  "cells": [
    {
      "cell_type": "markdown",
      "metadata": {
        "id": "ja8G4NYcKHDe"
      },
      "source": [
        "<h1><center> <font color='black'> Network Analysis of Scientific Collaboration</font></center></h1>\n",
        "<h2><center> <font color='black'> Link prediction</font></center>"
      ]
    },
    {
      "cell_type": "markdown",
      "metadata": {
        "id": "GvZ0T-ZTKHDo"
      },
      "source": [
        "# Libraries"
      ]
    },
    {
      "cell_type": "code",
      "metadata": {
        "id": "pk0lHTXHKHDo"
      },
      "source": [
        "# Importing required libraries\n",
        "\n",
        "import networkx as nx\n",
        "from networkx.algorithms import community\n",
        "import pandas as pd\n",
        "import numpy as np\n",
        "import itertools\n",
        "import os\n",
        "import random\n",
        "from tqdm import tqdm\n",
        "import re\n",
        "from itertools import cycle, chain\n",
        "import lightgbm as lgbm\n",
        "\n",
        "from sklearn.manifold import TSNE\n",
        "from sklearn.linear_model import LogisticRegression\n",
        "from sklearn.ensemble import RandomForestClassifier\n",
        "from sklearn.metrics import classification_report, roc_auc_score\n",
        "from sklearn.model_selection import train_test_split\n",
        "from sklearn import metrics\n",
        "from sklearn import preprocessing, feature_extraction, model_selection\n",
        "from IPython.display import display, HTML\n",
        "import matplotlib.pyplot as plt\n",
        "\n",
        "%matplotlib inline"
      ],
      "execution_count": 1,
      "outputs": []
    },
    {
      "cell_type": "markdown",
      "metadata": {
        "id": "8w6_wI--RYoj"
      },
      "source": [
        "# Data"
      ]
    },
    {
      "cell_type": "code",
      "metadata": {
        "colab": {
          "base_uri": "https://localhost:8080/",
          "height": 223
        },
        "id": "Xqci0BlRIT7x",
        "outputId": "cb3007b7-b633-41c7-bee9-57d22b0825ba"
      },
      "source": [
        "# Loading the data\n",
        "df_cc = pd.read_csv('df_cc.csv')\n",
        "print('Dataset dimension:', df_cc.shape)\n",
        "df_cc.head()"
      ],
      "execution_count": 2,
      "outputs": [
        {
          "output_type": "stream",
          "text": [
            "Dataset dimension: (4923, 3)\n"
          ],
          "name": "stdout"
        },
        {
          "output_type": "execute_result",
          "data": {
            "text/html": [
              "<div>\n",
              "<style scoped>\n",
              "    .dataframe tbody tr th:only-of-type {\n",
              "        vertical-align: middle;\n",
              "    }\n",
              "\n",
              "    .dataframe tbody tr th {\n",
              "        vertical-align: top;\n",
              "    }\n",
              "\n",
              "    .dataframe thead th {\n",
              "        text-align: right;\n",
              "    }\n",
              "</style>\n",
              "<table border=\"1\" class=\"dataframe\">\n",
              "  <thead>\n",
              "    <tr style=\"text-align: right;\">\n",
              "      <th></th>\n",
              "      <th>source</th>\n",
              "      <th>target</th>\n",
              "      <th>weight</th>\n",
              "    </tr>\n",
              "  </thead>\n",
              "  <tbody>\n",
              "    <tr>\n",
              "      <th>0</th>\n",
              "      <td>1605636</td>\n",
              "      <td>64684</td>\n",
              "      <td>1</td>\n",
              "    </tr>\n",
              "    <tr>\n",
              "      <th>1</th>\n",
              "      <td>1605636</td>\n",
              "      <td>1343349</td>\n",
              "      <td>1</td>\n",
              "    </tr>\n",
              "    <tr>\n",
              "      <th>2</th>\n",
              "      <td>1605636</td>\n",
              "      <td>1352169</td>\n",
              "      <td>1</td>\n",
              "    </tr>\n",
              "    <tr>\n",
              "      <th>3</th>\n",
              "      <td>1605636</td>\n",
              "      <td>451036</td>\n",
              "      <td>1</td>\n",
              "    </tr>\n",
              "    <tr>\n",
              "      <th>4</th>\n",
              "      <td>1605636</td>\n",
              "      <td>569658</td>\n",
              "      <td>1</td>\n",
              "    </tr>\n",
              "  </tbody>\n",
              "</table>\n",
              "</div>"
            ],
            "text/plain": [
              "    source   target  weight\n",
              "0  1605636    64684       1\n",
              "1  1605636  1343349       1\n",
              "2  1605636  1352169       1\n",
              "3  1605636   451036       1\n",
              "4  1605636   569658       1"
            ]
          },
          "metadata": {
            "tags": []
          },
          "execution_count": 2
        }
      ]
    },
    {
      "cell_type": "markdown",
      "metadata": {
        "id": "824iu7ZgIT7y"
      },
      "source": [
        "Using the code from the practice session 6 to prepare the data"
      ]
    },
    {
      "cell_type": "code",
      "metadata": {
        "colab": {
          "base_uri": "https://localhost:8080/"
        },
        "id": "mk-N-j-MIT7z",
        "outputId": "a80ddaab-1a07-4c0e-9a17-97e9fd52320f"
      },
      "source": [
        "# create graph\n",
        "G_t = nx.from_pandas_edgelist(df_cc, \"source\", \"target\", create_using=nx.Graph())\n",
        "\n",
        "# combine all nodes in a list\n",
        "node_list = list(df_cc['source']) + list(df_cc['target'])\n",
        "\n",
        "# remove duplicate items from the list\n",
        "node_list = list(dict.fromkeys(node_list))\n",
        "\n",
        "# build adjacency matrix\n",
        "adj_G = nx.to_numpy_matrix(G_t, nodelist = node_list)\n",
        "\n",
        "# get unconnected node-pairs\n",
        "all_unconnected_pairs = []\n",
        "\n",
        "# traverse adjacency matrix\n",
        "offset = 0\n",
        "for i in tqdm(range(adj_G.shape[0])):\n",
        "  for j in range(offset,adj_G.shape[1]):\n",
        "    if i != j:\n",
        "        if nx.shortest_path_length(G_t, node_list[i], node_list[j]) <= 2:\n",
        "            if adj_G[i,j] == 0:\n",
        "                all_unconnected_pairs.append([node_list[i],node_list[j]])\n",
        "\n",
        "  offset = offset + 1\n",
        "\n",
        "\n",
        "node_1_unlinked = [i[0] for i in all_unconnected_pairs]\n",
        "node_2_unlinked = [i[1] for i in all_unconnected_pairs]\n",
        "\n",
        "data = pd.DataFrame({'source':node_1_unlinked, \n",
        "                     'target':node_2_unlinked})\n",
        "\n",
        "# add target variable 'link'\n",
        "data['link'] = 0\n",
        "\n",
        "initial_node_count = len(G_t.nodes)\n",
        "\n",
        "df_cc_temp = df_cc.copy()\n",
        "\n",
        "# empty list to store removable links\n",
        "omissible_links_index = []\n",
        "\n",
        "for i in tqdm(df_cc.index.values):\n",
        "  \n",
        "  # remove a node pair and build a new graph\n",
        "  G_temp = nx.from_pandas_edgelist(df_cc_temp.drop(index = i), \"source\", \"target\", create_using=nx.Graph())\n",
        "  \n",
        "  # check there is no spliting of graph and number of nodes is same\n",
        "  if (nx.number_connected_components(G_temp) == 1) and (len(G_temp.nodes) == initial_node_count):\n",
        "    omissible_links_index.append(i)\n",
        "    df_cc_temp = df_cc_temp.drop(index = i)\n",
        "    \n",
        "\n",
        "# create dataframe of removable edges\n",
        "df_cc_ghost = df_cc.loc[omissible_links_index]\n",
        "\n",
        "# add the target variable 'link'\n",
        "df_cc_ghost['link'] = 1\n",
        "\n",
        "data = data.append(df_cc_ghost[['source', 'target', 'link']], ignore_index=True)\n",
        "\n",
        "# drop removable edges\n",
        "df_cc_partial = df_cc.drop(index=df_cc_ghost.index.values)\n",
        "\n",
        "# build graph\n",
        "G_final = nx.from_pandas_edgelist(df_cc_partial, \"source\", \"target\", create_using=nx.Graph())"
      ],
      "execution_count": 3,
      "outputs": [
        {
          "output_type": "stream",
          "text": [
            "100%|██████████| 1707/1707 [01:03<00:00, 26.79it/s] \n",
            "100%|██████████| 4923/4923 [01:20<00:00, 61.16it/s]\n"
          ],
          "name": "stderr"
        }
      ]
    },
    {
      "cell_type": "code",
      "metadata": {
        "colab": {
          "base_uri": "https://localhost:8080/"
        },
        "id": "UYL8mRgNIT70",
        "outputId": "d101348a-d0a2-4aac-c040-f097d2bbebcd"
      },
      "source": [
        "# To check if the data is imbalanced\n",
        "data['link'].value_counts()"
      ],
      "execution_count": 4,
      "outputs": [
        {
          "output_type": "execute_result",
          "data": {
            "text/plain": [
              "0    37474\n",
              "1     3217\n",
              "Name: link, dtype: int64"
            ]
          },
          "metadata": {
            "tags": []
          },
          "execution_count": 4
        }
      ]
    },
    {
      "cell_type": "markdown",
      "metadata": {
        "id": "MzA68khqIT70"
      },
      "source": [
        "# Scoring methods"
      ]
    },
    {
      "cell_type": "code",
      "metadata": {
        "id": "ha10CCEYIT71"
      },
      "source": [
        "# 1. Number of common neighbors\n",
        "data['common_neighbor'] = 0\n",
        "for i in range(data.shape[0]):\n",
        "  data.loc[i,'common_neighbor'] = len(list(nx.common_neighbors(G_final, data.loc[i,'source'], data.loc[i, 'target'])))"
      ],
      "execution_count": 5,
      "outputs": []
    },
    {
      "cell_type": "code",
      "metadata": {
        "id": "dR_vPz5nIT71"
      },
      "source": [
        "# 2. Jaccard coefficient\n",
        "data['jaccard_similarity'] = 0\n",
        "for i in range(data.shape[0]):\n",
        "    data.loc[i, 'jaccard_similarity'] = list(nx.jaccard_coefficient(G_final, [(data.loc[i, 'source'], data.loc[i, 'target'])]))[0][2]"
      ],
      "execution_count": 6,
      "outputs": []
    },
    {
      "cell_type": "code",
      "metadata": {
        "id": "EBqDX1ptIT72"
      },
      "source": [
        "# 3. Adamic/Adar\n",
        "data['adamic_adar_index'] = 0\n",
        "for i in range(data.shape[0]):\n",
        "  data.loc[i, 'adamic_adar_index'] = list(nx.adamic_adar_index(G_final, [(data.loc[i, 'source'], data.loc[i, 'target'])]))[0][2]"
      ],
      "execution_count": 7,
      "outputs": []
    },
    {
      "cell_type": "code",
      "metadata": {
        "id": "85Szr6ryIT72"
      },
      "source": [
        "# 4. Shortest path\n",
        "data['shortest_path'] = 0\n",
        "for i in range(data.shape[0]):\n",
        "    data.loc[i, 'shortest_path'] = nx.shortest_path_length(G_final, source = data.loc[i, 'source'], target = data.loc[i, 'target'])"
      ],
      "execution_count": 8,
      "outputs": []
    },
    {
      "cell_type": "code",
      "metadata": {
        "id": "4XntAfYXIT72"
      },
      "source": [
        "# 5. Preferrential attachment\n",
        "data['preferrential_attachment'] = 0\n",
        "for i in range(data.shape[0]):\n",
        "    data.loc[i, 'preferrential_attachment'] = list(nx.preferential_attachment(G_final, [(data.loc[i, 'source'], data.loc[i, 'target'])]))[0][2]"
      ],
      "execution_count": 9,
      "outputs": []
    },
    {
      "cell_type": "code",
      "metadata": {
        "id": "mqqnwl3zIT72"
      },
      "source": [
        "# 6. Hitting times \n",
        "# done as in the PS 6\n",
        "from statistics import mode \n",
        "data['hitting_time'] = 0\n",
        "for i in range(data.shape[0]):\n",
        "  all_simple_paths = nx.all_simple_paths(G_final, data.loc[i, 'source'], data.loc[i, 'target'])\n",
        "  dist = []\n",
        "  for path in all_simple_paths:\n",
        "    dist.append(len(path))\n",
        "  data.loc[i, 'hitting_time'] = mode(dist)"
      ],
      "execution_count": 10,
      "outputs": []
    },
    {
      "cell_type": "code",
      "metadata": {
        "colab": {
          "base_uri": "https://localhost:8080/",
          "height": 206
        },
        "id": "aCVQe5klIT73",
        "outputId": "31b78c14-0348-4570-cc9b-bee22c7bef6f"
      },
      "source": [
        "data.head()"
      ],
      "execution_count": 11,
      "outputs": [
        {
          "output_type": "execute_result",
          "data": {
            "text/html": [
              "<div>\n",
              "<style scoped>\n",
              "    .dataframe tbody tr th:only-of-type {\n",
              "        vertical-align: middle;\n",
              "    }\n",
              "\n",
              "    .dataframe tbody tr th {\n",
              "        vertical-align: top;\n",
              "    }\n",
              "\n",
              "    .dataframe thead th {\n",
              "        text-align: right;\n",
              "    }\n",
              "</style>\n",
              "<table border=\"1\" class=\"dataframe\">\n",
              "  <thead>\n",
              "    <tr style=\"text-align: right;\">\n",
              "      <th></th>\n",
              "      <th>source</th>\n",
              "      <th>target</th>\n",
              "      <th>link</th>\n",
              "      <th>common_neighbor</th>\n",
              "      <th>jaccard_similarity</th>\n",
              "      <th>adamic_adar_index</th>\n",
              "      <th>shortest_path</th>\n",
              "      <th>preferrential_attachment</th>\n",
              "      <th>hitting_time</th>\n",
              "    </tr>\n",
              "  </thead>\n",
              "  <tbody>\n",
              "    <tr>\n",
              "      <th>0</th>\n",
              "      <td>1605636</td>\n",
              "      <td>655411</td>\n",
              "      <td>0</td>\n",
              "      <td>0</td>\n",
              "      <td>0.0</td>\n",
              "      <td>0.0</td>\n",
              "      <td>17</td>\n",
              "      <td>1</td>\n",
              "      <td>18</td>\n",
              "    </tr>\n",
              "    <tr>\n",
              "      <th>1</th>\n",
              "      <td>1605636</td>\n",
              "      <td>475422</td>\n",
              "      <td>0</td>\n",
              "      <td>0</td>\n",
              "      <td>0.0</td>\n",
              "      <td>0.0</td>\n",
              "      <td>8</td>\n",
              "      <td>1</td>\n",
              "      <td>9</td>\n",
              "    </tr>\n",
              "    <tr>\n",
              "      <th>2</th>\n",
              "      <td>1605636</td>\n",
              "      <td>1622358</td>\n",
              "      <td>0</td>\n",
              "      <td>0</td>\n",
              "      <td>0.0</td>\n",
              "      <td>0.0</td>\n",
              "      <td>16</td>\n",
              "      <td>1</td>\n",
              "      <td>17</td>\n",
              "    </tr>\n",
              "    <tr>\n",
              "      <th>3</th>\n",
              "      <td>1605636</td>\n",
              "      <td>1229638</td>\n",
              "      <td>0</td>\n",
              "      <td>0</td>\n",
              "      <td>0.0</td>\n",
              "      <td>0.0</td>\n",
              "      <td>7</td>\n",
              "      <td>1</td>\n",
              "      <td>8</td>\n",
              "    </tr>\n",
              "    <tr>\n",
              "      <th>4</th>\n",
              "      <td>1605636</td>\n",
              "      <td>476673</td>\n",
              "      <td>0</td>\n",
              "      <td>0</td>\n",
              "      <td>0.0</td>\n",
              "      <td>0.0</td>\n",
              "      <td>10</td>\n",
              "      <td>1</td>\n",
              "      <td>11</td>\n",
              "    </tr>\n",
              "  </tbody>\n",
              "</table>\n",
              "</div>"
            ],
            "text/plain": [
              "    source   target  ...  preferrential_attachment  hitting_time\n",
              "0  1605636   655411  ...                         1            18\n",
              "1  1605636   475422  ...                         1             9\n",
              "2  1605636  1622358  ...                         1            17\n",
              "3  1605636  1229638  ...                         1             8\n",
              "4  1605636   476673  ...                         1            11\n",
              "\n",
              "[5 rows x 9 columns]"
            ]
          },
          "metadata": {
            "tags": []
          },
          "execution_count": 11
        }
      ]
    },
    {
      "cell_type": "code",
      "metadata": {
        "id": "RpQ3KClGIT73"
      },
      "source": [
        "x = data.drop(columns=['source', 'target', 'link'])\n",
        "y = data['link']"
      ],
      "execution_count": 12,
      "outputs": []
    },
    {
      "cell_type": "code",
      "metadata": {
        "id": "AttWguWpIT74"
      },
      "source": [
        "xtrain, xtest, ytrain, ytest = train_test_split(x, y, \n",
        "                                                test_size = 0.3, \n",
        "                                                random_state = 35)"
      ],
      "execution_count": 13,
      "outputs": []
    },
    {
      "cell_type": "code",
      "metadata": {
        "id": "ZmgNntzOIT74"
      },
      "source": [
        "lr = LogisticRegression(class_weight=\"balanced\")\n",
        "\n",
        "lr.fit(xtrain, ytrain)\n",
        "predictions = lr.predict_proba(xtest)\n",
        "lr_predictions = lr.predict(xtest)"
      ],
      "execution_count": 14,
      "outputs": []
    },
    {
      "cell_type": "code",
      "metadata": {
        "colab": {
          "base_uri": "https://localhost:8080/",
          "height": 295
        },
        "id": "Ads4fd6aIT74",
        "outputId": "d7b09420-5ed7-43a5-bff8-5864a06f1988"
      },
      "source": [
        "metrics.plot_roc_curve(lr, xtest, ytest) \n",
        "plt.title('Scoring Methods')\n",
        "plt.show()  "
      ],
      "execution_count": 15,
      "outputs": [
        {
          "output_type": "display_data",
          "data": {
            "image/png": "[encoded data removed]",
            "text/plain": [
              "<Figure size 432x288 with 1 Axes>"
            ]
          },
          "metadata": {
            "tags": [],
            "needs_background": "light"
          }
        }
      ]
    },
    {
      "cell_type": "code",
      "metadata": {
        "colab": {
          "base_uri": "https://localhost:8080/"
        },
        "id": "7NrwRoGiIT75",
        "outputId": "c7315bc9-59f7-4c9d-d1e4-40e3e59dac34"
      },
      "source": [
        "print('roc_auc_score', roc_auc_score(ytest, predictions[:,1]))\n",
        "print('accuracy_score', metrics.accuracy_score(ytest, lr_predictions))\n",
        "print('f1_score', metrics.f1_score(ytest, lr_predictions))\n",
        "print('recall_score', metrics.recall_score(ytest, lr_predictions))\n",
        "print('precision_score', metrics.precision_score(ytest, lr_predictions))\n",
        "print('mean_squared_error', metrics.mean_squared_error(ytest, lr_predictions))"
      ],
      "execution_count": 16,
      "outputs": [
        {
          "output_type": "stream",
          "text": [
            "roc_auc_score 0.6686294154435805\n",
            "accuracy_score 0.7276376146788991\n",
            "f1_score 0.23014586709886548\n",
            "recall_score 0.5092213114754098\n",
            "precision_score 0.14866886030511517\n",
            "mean_squared_error 0.2723623853211009\n"
          ],
          "name": "stdout"
        }
      ]
    },
    {
      "cell_type": "code",
      "metadata": {
        "id": "U-rTaTvZIT75"
      },
      "source": [
        "rf = RandomForestClassifier(n_estimators=500, max_depth=2)\n",
        "rf.fit(xtrain, ytrain)\n",
        "\n",
        "predictions = rf.predict_proba(xtest)\n",
        "rf_predictions = rf.predict(xtest)"
      ],
      "execution_count": 17,
      "outputs": []
    },
    {
      "cell_type": "code",
      "metadata": {
        "colab": {
          "base_uri": "https://localhost:8080/",
          "height": 295
        },
        "id": "wktw4KFqIT75",
        "outputId": "58ad05c8-ecc4-4d28-beb4-b7990b874ae0"
      },
      "source": [
        "metrics.plot_roc_curve(rf, xtest, ytest) \n",
        "plt.title('Scoring Methods')\n",
        "plt.show()  "
      ],
      "execution_count": 18,
      "outputs": [
        {
          "output_type": "display_data",
          "data": {
            "image/png": "[encoded data removed]",
            "text/plain": [
              "<Figure size 432x288 with 1 Axes>"
            ]
          },
          "metadata": {
            "tags": [],
            "needs_background": "light"
          }
        }
      ]
    },
    {
      "cell_type": "code",
      "metadata": {
        "colab": {
          "base_uri": "https://localhost:8080/"
        },
        "id": "NtTnkawNIT76",
        "outputId": "20f67d56-e979-4766-f08c-d854819c3f44"
      },
      "source": [
        "print('roc_auc_score', roc_auc_score(ytest, predictions[:,1]))\n",
        "print('accuracy_score', metrics.accuracy_score(ytest, rf_predictions))\n",
        "print('f1_score', metrics.f1_score(ytest, rf_predictions))\n",
        "print('recall_score', metrics.recall_score(ytest, rf_predictions))\n",
        "print('precision_score', metrics.precision_score(ytest, rf_predictions))\n",
        "print('mean_squared_error', metrics.mean_squared_error(ytest, rf_predictions))"
      ],
      "execution_count": 19,
      "outputs": [
        {
          "output_type": "stream",
          "text": [
            "roc_auc_score 0.6695009373832376\n",
            "accuracy_score 0.9200524246395806\n",
            "f1_score 0.0\n",
            "recall_score 0.0\n",
            "precision_score 0.0\n",
            "mean_squared_error 0.0799475753604194\n"
          ],
          "name": "stdout"
        },
        {
          "output_type": "stream",
          "text": [
            "/usr/local/lib/python3.7/dist-packages/sklearn/metrics/_classification.py:1272: UndefinedMetricWarning: Precision is ill-defined and being set to 0.0 due to no predicted samples. Use `zero_division` parameter to control this behavior.\n",
            "  _warn_prf(average, modifier, msg_start, len(result))\n"
          ],
          "name": "stderr"
        }
      ]
    },
    {
      "cell_type": "code",
      "metadata": {
        "colab": {
          "base_uri": "https://localhost:8080/",
          "height": 308
        },
        "id": "S48lfN-jJIKZ",
        "outputId": "3ddc0882-27ca-4d0c-e426-4b38bc9a2c51"
      },
      "source": [
        "lr_disp = metrics.plot_roc_curve(lr, xtest, ytest)\n",
        "rf_disp = metrics.plot_roc_curve(rf, xtest, ytest, ax=lr_disp.ax_)\n",
        "rf_disp.figure_.suptitle(\"ROC curve comparison\")\n",
        "plt.plot([0, 1], [0, 1],linestyle='--')\n",
        "plt.show()"
      ],
      "execution_count": 20,
      "outputs": [
        {
          "output_type": "display_data",
          "data": {
            "image/png": "[encoded data removed]",
            "text/plain": [
              "<Figure size 432x288 with 1 Axes>"
            ]
          },
          "metadata": {
            "tags": [],
            "needs_background": "light"
          }
        }
      ]
    },
    {
      "cell_type": "markdown",
      "metadata": {
        "id": "9VYUxGcOI17z"
      },
      "source": [
        "# Node2Vec"
      ]
    },
    {
      "cell_type": "code",
      "metadata": {
        "colab": {
          "base_uri": "https://localhost:8080/",
          "height": 257,
          "referenced_widgets": [
            "8e7e7ff8e7c64411af6ba5e77e2bf357",
            "98d8ee6b6e114e97935adda090c41217",
            "434978e77b4d49628ca942b32c2780b3",
            "44333a2b980046d18b0621ab606bb10e",
            "e773b2be49e64a4cae6f5b31f54c54b6",
            "17378043fa4445178a01d7aab6708ee8",
            "cbd774231c76458fb324e7ea6ced0625",
            "c4984b60be514dd5bedabe06320a4f4a"
          ]
        },
        "id": "0jOsLKNFIT76",
        "outputId": "9fe7777c-5b5e-4625-9fa8-0f54198035c4"
      },
      "source": [
        "!pip install node2vec\n",
        "from node2vec import Node2Vec\n",
        "\n",
        "# Generate walks\n",
        "node2vec = Node2Vec(G_final, dimensions=100, walk_length=16, num_walks=50)\n",
        "\n",
        "# train node2vec model\n",
        "n2w_model = node2vec.fit(window=7, min_count=1)"
      ],
      "execution_count": 21,
      "outputs": [
        {
          "output_type": "stream",
          "text": [
            "Requirement already satisfied: node2vec in /usr/local/lib/python3.7/dist-packages (0.4.3)\n",
            "Requirement already satisfied: networkx in /usr/local/lib/python3.7/dist-packages (from node2vec) (2.5.1)\n",
            "Requirement already satisfied: numpy in /usr/local/lib/python3.7/dist-packages (from node2vec) (1.19.5)\n",
            "Requirement already satisfied: gensim in /usr/local/lib/python3.7/dist-packages (from node2vec) (3.6.0)\n",
            "Requirement already satisfied: joblib>=0.13.2 in /usr/local/lib/python3.7/dist-packages (from node2vec) (1.0.1)\n",
            "Requirement already satisfied: tqdm in /usr/local/lib/python3.7/dist-packages (from node2vec) (4.41.1)\n",
            "Requirement already satisfied: decorator<5,>=4.3 in /usr/local/lib/python3.7/dist-packages (from networkx->node2vec) (4.4.2)\n",
            "Requirement already satisfied: smart-open>=1.2.1 in /usr/local/lib/python3.7/dist-packages (from gensim->node2vec) (5.0.0)\n",
            "Requirement already satisfied: scipy>=0.18.1 in /usr/local/lib/python3.7/dist-packages (from gensim->node2vec) (1.4.1)\n",
            "Requirement already satisfied: six>=1.5.0 in /usr/local/lib/python3.7/dist-packages (from gensim->node2vec) (1.15.0)\n"
          ],
          "name": "stdout"
        },
        {
          "output_type": "display_data",
          "data": {
            "application/vnd.jupyter.widget-view+json": {
              "model_id": "8e7e7ff8e7c64411af6ba5e77e2bf357",
              "version_minor": 0,
              "version_major": 2
            },
            "text/plain": [
              "HBox(children=(FloatProgress(value=0.0, description='Computing transition probabilities', max=1707.0, style=Pr…"
            ]
          },
          "metadata": {
            "tags": []
          }
        },
        {
          "output_type": "stream",
          "text": [
            "\rGenerating walks (CPU: 1):   0%|          | 0/50 [00:00<?, ?it/s]"
          ],
          "name": "stderr"
        },
        {
          "output_type": "stream",
          "text": [
            "\n"
          ],
          "name": "stdout"
        },
        {
          "output_type": "stream",
          "text": [
            "Generating walks (CPU: 1): 100%|██████████| 50/50 [00:55<00:00,  1.11s/it]\n"
          ],
          "name": "stderr"
        }
      ]
    },
    {
      "cell_type": "code",
      "metadata": {
        "colab": {
          "base_uri": "https://localhost:8080/"
        },
        "id": "uhZ6VQ_dIT77",
        "outputId": "5e80cc85-639c-4d0b-86a4-2bf87bc9bc07"
      },
      "source": [
        "x = [(n2w_model[str(i)]+n2w_model[str(j)]) for i,j in zip(data['source'], data['target'])]"
      ],
      "execution_count": 22,
      "outputs": [
        {
          "output_type": "stream",
          "text": [
            "/usr/local/lib/python3.7/dist-packages/ipykernel_launcher.py:1: DeprecationWarning: Call to deprecated `__getitem__` (Method will be removed in 4.0.0, use self.wv.__getitem__() instead).\n",
            "  \"\"\"Entry point for launching an IPython kernel.\n"
          ],
          "name": "stderr"
        }
      ]
    },
    {
      "cell_type": "code",
      "metadata": {
        "id": "Ct2QDadWIT77"
      },
      "source": [
        "xtrain, xtest, ytrain, ytest = train_test_split(np.array(x), data['link'], \n",
        "                                                test_size = 0.3, \n",
        "                                                random_state = 35)"
      ],
      "execution_count": 23,
      "outputs": []
    },
    {
      "cell_type": "code",
      "metadata": {
        "colab": {
          "base_uri": "https://localhost:8080/"
        },
        "id": "iRexaKG1IT77",
        "outputId": "381a08ec-21dc-4611-e666-18c2f7b7ffab"
      },
      "source": [
        "lr = LogisticRegression(class_weight=\"balanced\")\n",
        "\n",
        "lr.fit(xtrain, ytrain)\n",
        "predictions = lr.predict_proba(xtest)\n",
        "lr_predictions = lr.predict(xtest)"
      ],
      "execution_count": 24,
      "outputs": [
        {
          "output_type": "stream",
          "text": [
            "/usr/local/lib/python3.7/dist-packages/sklearn/linear_model/_logistic.py:940: ConvergenceWarning: lbfgs failed to converge (status=1):\n",
            "STOP: TOTAL NO. of ITERATIONS REACHED LIMIT.\n",
            "\n",
            "Increase the number of iterations (max_iter) or scale the data as shown in:\n",
            "    https://scikit-learn.org/stable/modules/preprocessing.html\n",
            "Please also refer to the documentation for alternative solver options:\n",
            "    https://scikit-learn.org/stable/modules/linear_model.html#logistic-regression\n",
            "  extra_warning_msg=_LOGISTIC_SOLVER_CONVERGENCE_MSG)\n"
          ],
          "name": "stderr"
        }
      ]
    },
    {
      "cell_type": "code",
      "metadata": {
        "colab": {
          "base_uri": "https://localhost:8080/",
          "height": 295
        },
        "id": "KRA27TkXIT77",
        "outputId": "19b6537f-b708-4d10-9718-76ce1c312fab"
      },
      "source": [
        "metrics.plot_roc_curve(lr, xtest, ytest) \n",
        "plt.title('Scoring Methods')\n",
        "plt.show()  "
      ],
      "execution_count": 25,
      "outputs": [
        {
          "output_type": "display_data",
          "data": {
            "image/png": "[encoded data removed]",
            "text/plain": [
              "<Figure size 432x288 with 1 Axes>"
            ]
          },
          "metadata": {
            "tags": [],
            "needs_background": "light"
          }
        }
      ]
    },
    {
      "cell_type": "code",
      "metadata": {
        "colab": {
          "base_uri": "https://localhost:8080/"
        },
        "id": "rG2s9SQVIT77",
        "outputId": "41101c6d-12ca-451e-e10d-fe64918afb08"
      },
      "source": [
        "print('roc_auc_score', roc_auc_score(ytest, predictions[:,1]))\n",
        "print('accuracy_score', metrics.accuracy_score(ytest, lr_predictions))\n",
        "print('f1_score', metrics.f1_score(ytest, lr_predictions))\n",
        "print('recall_score', metrics.recall_score(ytest, lr_predictions))\n",
        "print('precision_score', metrics.precision_score(ytest, lr_predictions))\n",
        "print('mean_squared_error', metrics.mean_squared_error(ytest, lr_predictions))"
      ],
      "execution_count": 26,
      "outputs": [
        {
          "output_type": "stream",
          "text": [
            "roc_auc_score 0.6124647341027977\n",
            "accuracy_score 0.6354849279161205\n",
            "f1_score 0.17987467747880576\n",
            "recall_score 0.5\n",
            "precision_score 0.10966292134831461\n",
            "mean_squared_error 0.3645150720838794\n"
          ],
          "name": "stdout"
        }
      ]
    },
    {
      "cell_type": "code",
      "metadata": {
        "id": "HIkXrD2kIT78"
      },
      "source": [
        "rf = RandomForestClassifier(n_estimators=500, max_depth=2)\n",
        "rf.fit(xtrain, ytrain)\n",
        "\n",
        "predictions = rf.predict_proba(xtest)\n",
        "rf_predictions = rf.predict(xtest)"
      ],
      "execution_count": 27,
      "outputs": []
    },
    {
      "cell_type": "code",
      "metadata": {
        "colab": {
          "base_uri": "https://localhost:8080/",
          "height": 295
        },
        "id": "7UpzhoGCIT78",
        "outputId": "7be018d3-889d-4d6f-c612-f78d4da899e5"
      },
      "source": [
        "metrics.plot_roc_curve(rf, xtest, ytest) \n",
        "plt.title('Scoring Methods')\n",
        "plt.show()  "
      ],
      "execution_count": 28,
      "outputs": [
        {
          "output_type": "display_data",
          "data": {
            "image/png": "[encoded data removed]",
            "text/plain": [
              "<Figure size 432x288 with 1 Axes>"
            ]
          },
          "metadata": {
            "tags": [],
            "needs_background": "light"
          }
        }
      ]
    },
    {
      "cell_type": "code",
      "metadata": {
        "colab": {
          "base_uri": "https://localhost:8080/"
        },
        "id": "mhBf-A39Jwsp",
        "outputId": "973667be-5bbf-4e61-f482-289858b330d7"
      },
      "source": [
        "print('roc_auc_score', roc_auc_score(ytest, predictions[:,1]))\n",
        "print('accuracy_score', metrics.accuracy_score(ytest, rf_predictions))\n",
        "print('f1_score', metrics.f1_score(ytest, rf_predictions))\n",
        "print('recall_score', metrics.recall_score(ytest, rf_predictions))\n",
        "print('precision_score', metrics.precision_score(ytest, rf_predictions))\n",
        "print('mean_squared_error', metrics.mean_squared_error(ytest, rf_predictions))"
      ],
      "execution_count": 29,
      "outputs": [
        {
          "output_type": "stream",
          "text": [
            "roc_auc_score 0.6223234497600533\n",
            "accuracy_score 0.9200524246395806\n",
            "f1_score 0.0\n",
            "recall_score 0.0\n",
            "precision_score 0.0\n",
            "mean_squared_error 0.0799475753604194\n"
          ],
          "name": "stdout"
        },
        {
          "output_type": "stream",
          "text": [
            "/usr/local/lib/python3.7/dist-packages/sklearn/metrics/_classification.py:1272: UndefinedMetricWarning: Precision is ill-defined and being set to 0.0 due to no predicted samples. Use `zero_division` parameter to control this behavior.\n",
            "  _warn_prf(average, modifier, msg_start, len(result))\n"
          ],
          "name": "stderr"
        }
      ]
    }
  ]
}
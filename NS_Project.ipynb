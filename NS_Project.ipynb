{
 "cells": [
  {
   "cell_type": "markdown",
   "id": "southeast-address",
   "metadata": {},
   "source": [
    "### Network analysis of scientific collaboration"
   ]
  },
  {
   "cell_type": "code",
   "execution_count": 1,
   "id": "selected-blues",
   "metadata": {},
   "outputs": [],
   "source": [
    "# Libraries\n",
    "\n",
    "import os\n",
    "import numpy as np\n",
    "import pandas as pd\n",
    "import matplotlib.pyplot as plt\n",
    "from itertools import cycle, chain\n",
    "\n",
    "import networkx as nx\n",
    "from networkx.algorithms import community"
   ]
  },
  {
   "cell_type": "markdown",
   "id": "champion-miller",
   "metadata": {},
   "source": [
    "AMiner-Coauthor"
   ]
  },
  {
   "cell_type": "code",
   "execution_count": 2,
   "id": "american-authorization",
   "metadata": {},
   "outputs": [
    {
     "name": "stdout",
     "output_type": "stream",
     "text": [
      "Coauthor dataset dimension: (4258946, 3)\n"
     ]
    },
    {
     "data": {
      "text/html": [
       "<div>\n",
       "<style scoped>\n",
       "    .dataframe tbody tr th:only-of-type {\n",
       "        vertical-align: middle;\n",
       "    }\n",
       "\n",
       "    .dataframe tbody tr th {\n",
       "        vertical-align: top;\n",
       "    }\n",
       "\n",
       "    .dataframe thead th {\n",
       "        text-align: right;\n",
       "    }\n",
       "</style>\n",
       "<table border=\"1\" class=\"dataframe\">\n",
       "  <thead>\n",
       "    <tr style=\"text-align: right;\">\n",
       "      <th></th>\n",
       "      <th>source</th>\n",
       "      <th>target</th>\n",
       "      <th>weight</th>\n",
       "    </tr>\n",
       "  </thead>\n",
       "  <tbody>\n",
       "    <tr>\n",
       "      <th>0</th>\n",
       "      <td>#522324</td>\n",
       "      <td>1034146</td>\n",
       "      <td>1</td>\n",
       "    </tr>\n",
       "    <tr>\n",
       "      <th>1</th>\n",
       "      <td>#1355779</td>\n",
       "      <td>1229932</td>\n",
       "      <td>2</td>\n",
       "    </tr>\n",
       "    <tr>\n",
       "      <th>2</th>\n",
       "      <td>#688814</td>\n",
       "      <td>947067</td>\n",
       "      <td>2</td>\n",
       "    </tr>\n",
       "    <tr>\n",
       "      <th>3</th>\n",
       "      <td>#1329221</td>\n",
       "      <td>1140429</td>\n",
       "      <td>1</td>\n",
       "    </tr>\n",
       "    <tr>\n",
       "      <th>4</th>\n",
       "      <td>#742331</td>\n",
       "      <td>314944</td>\n",
       "      <td>1</td>\n",
       "    </tr>\n",
       "  </tbody>\n",
       "</table>\n",
       "</div>"
      ],
      "text/plain": [
       "     source   target  weight\n",
       "0   #522324  1034146       1\n",
       "1  #1355779  1229932       2\n",
       "2   #688814   947067       2\n",
       "3  #1329221  1140429       1\n",
       "4   #742331   314944       1"
      ]
     },
     "execution_count": 2,
     "metadata": {},
     "output_type": "execute_result"
    }
   ],
   "source": [
    "# Load the data from AMiner-Coauthor\n",
    "\n",
    "df = pd.read_csv('AMiner-Coauthor.txt', delimiter = \"\\t\", header = None, names=[\"source\", \"target\", \"weight\"])\n",
    "print('Coauthor dataset dimension:', df.shape)\n",
    "df.head()"
   ]
  },
  {
   "cell_type": "code",
   "execution_count": 3,
   "id": "extensive-authorization",
   "metadata": {},
   "outputs": [
    {
     "name": "stdout",
     "output_type": "stream",
     "text": [
      "<class 'pandas.core.frame.DataFrame'>\n",
      "RangeIndex: 4258946 entries, 0 to 4258945\n",
      "Data columns (total 3 columns):\n",
      " #   Column  Dtype \n",
      "---  ------  ----- \n",
      " 0   source  object\n",
      " 1   target  int64 \n",
      " 2   weight  int64 \n",
      "dtypes: int64(2), object(1)\n",
      "memory usage: 97.5+ MB\n"
     ]
    }
   ],
   "source": [
    "df.info()"
   ]
  },
  {
   "cell_type": "code",
   "execution_count": 4,
   "id": "endangered-lodging",
   "metadata": {},
   "outputs": [],
   "source": [
    "# Change the column 'source'\n",
    "df[\"source\"] = (df[\"source\"].str.strip('#').astype(int))"
   ]
  },
  {
   "cell_type": "code",
   "execution_count": 5,
   "id": "simple-executive",
   "metadata": {},
   "outputs": [
    {
     "data": {
      "text/plain": [
       "1     3288462\n",
       "2      553011\n",
       "3      185736\n",
       "4       85127\n",
       "5       46816\n",
       "       ...   \n",
       "89          1\n",
       "87          1\n",
       "66          1\n",
       "83          1\n",
       "86          1\n",
       "Name: weight, Length: 114, dtype: int64"
      ]
     },
     "execution_count": 5,
     "metadata": {},
     "output_type": "execute_result"
    }
   ],
   "source": [
    "df[\"weight\"].value_counts()"
   ]
  },
  {
   "cell_type": "code",
   "execution_count": 6,
   "id": "radio-friendship",
   "metadata": {},
   "outputs": [
    {
     "data": {
      "text/plain": [
       "False"
      ]
     },
     "execution_count": 6,
     "metadata": {},
     "output_type": "execute_result"
    }
   ],
   "source": [
    "# To check if there are any NaN values\n",
    "df.isnull().values.any()"
   ]
  },
  {
   "cell_type": "code",
   "execution_count": 7,
   "id": "transparent-vegetation",
   "metadata": {},
   "outputs": [
    {
     "data": {
      "text/plain": [
       "0"
      ]
     },
     "execution_count": 7,
     "metadata": {},
     "output_type": "execute_result"
    }
   ],
   "source": [
    "# To check if there are any duplicated rows\n",
    "df.duplicated().sum()"
   ]
  },
  {
   "cell_type": "code",
   "execution_count": 8,
   "id": "understood-ladder",
   "metadata": {},
   "outputs": [
    {
     "data": {
      "text/html": [
       "<div>\n",
       "<style scoped>\n",
       "    .dataframe tbody tr th:only-of-type {\n",
       "        vertical-align: middle;\n",
       "    }\n",
       "\n",
       "    .dataframe tbody tr th {\n",
       "        vertical-align: top;\n",
       "    }\n",
       "\n",
       "    .dataframe thead th {\n",
       "        text-align: right;\n",
       "    }\n",
       "</style>\n",
       "<table border=\"1\" class=\"dataframe\">\n",
       "  <thead>\n",
       "    <tr style=\"text-align: right;\">\n",
       "      <th></th>\n",
       "      <th>source</th>\n",
       "      <th>target</th>\n",
       "      <th>weight</th>\n",
       "    </tr>\n",
       "  </thead>\n",
       "  <tbody>\n",
       "  </tbody>\n",
       "</table>\n",
       "</div>"
      ],
      "text/plain": [
       "Empty DataFrame\n",
       "Columns: [source, target, weight]\n",
       "Index: []"
      ]
     },
     "execution_count": 8,
     "metadata": {},
     "output_type": "execute_result"
    }
   ],
   "source": [
    "# To check if any pair of authors was mentioned twice\n",
    "df[df.duplicated(['target', 'source'])]"
   ]
  },
  {
   "cell_type": "markdown",
   "id": "handled-reunion",
   "metadata": {},
   "source": [
    "AMiner-Author"
   ]
  },
  {
   "cell_type": "code",
   "execution_count": 9,
   "id": "saving-family",
   "metadata": {
    "scrolled": true
   },
   "outputs": [],
   "source": [
    "# Load the data from AMiner-Author\n",
    "\n",
    "# Source of this function for preprocessing https://www.kaggle.com/kmader/preprocessing-author-data\n",
    "\n",
    "with open(os.path.join('AMiner-Author.txt'), 'r', errors='ignore') as f:\n",
    "    dict_list = []\n",
    "    c_dict = {}\n",
    "    for i, line in enumerate(f):\n",
    "        c_line = line.strip()[1:].strip()\n",
    "        if len(c_line)<1:\n",
    "            if len(c_dict)>0:\n",
    "                dict_list += [c_dict]\n",
    "            c_dict = {}\n",
    "        else:\n",
    "            c_frag = c_line.split(' ')\n",
    "            c_dict[c_frag[0]] = ' '.join(c_frag[1:])"
   ]
  },
  {
   "cell_type": "code",
   "execution_count": 10,
   "id": "charged-founder",
   "metadata": {},
   "outputs": [
    {
     "name": "stdout",
     "output_type": "stream",
     "text": [
      "Author dataset dimension: (1712433, 11)\n"
     ]
    },
    {
     "data": {
      "text/html": [
       "<div>\n",
       "<style scoped>\n",
       "    .dataframe tbody tr th:only-of-type {\n",
       "        vertical-align: middle;\n",
       "    }\n",
       "\n",
       "    .dataframe tbody tr th {\n",
       "        vertical-align: top;\n",
       "    }\n",
       "\n",
       "    .dataframe thead th {\n",
       "        text-align: right;\n",
       "    }\n",
       "</style>\n",
       "<table border=\"1\" class=\"dataframe\">\n",
       "  <thead>\n",
       "    <tr style=\"text-align: right;\">\n",
       "      <th></th>\n",
       "      <th>index</th>\n",
       "      <th>n</th>\n",
       "      <th>a</th>\n",
       "      <th>pc</th>\n",
       "      <th>cn</th>\n",
       "      <th>hi</th>\n",
       "      <th>pi</th>\n",
       "      <th>upi</th>\n",
       "      <th>t</th>\n",
       "      <th>n-2nd</th>\n",
       "      <th>Valladolid,</th>\n",
       "    </tr>\n",
       "  </thead>\n",
       "  <tbody>\n",
       "    <tr>\n",
       "      <th>0</th>\n",
       "      <td>1</td>\n",
       "      <td>O. Willum</td>\n",
       "      <td>Res. Center for Microperipherik, Technische Un...</td>\n",
       "      <td>1</td>\n",
       "      <td>0</td>\n",
       "      <td>0</td>\n",
       "      <td>0.0000</td>\n",
       "      <td>0.0000</td>\n",
       "      <td>new product;product group;active product;long ...</td>\n",
       "      <td>NaN</td>\n",
       "      <td>NaN</td>\n",
       "    </tr>\n",
       "    <tr>\n",
       "      <th>1</th>\n",
       "      <td>2</td>\n",
       "      <td>D. Wei</td>\n",
       "      <td>Dept. of Electr. &amp; Comput. Eng., Drexel Univ.,...</td>\n",
       "      <td>1</td>\n",
       "      <td>0</td>\n",
       "      <td>0</td>\n",
       "      <td>0.0000</td>\n",
       "      <td>0.0000</td>\n",
       "      <td>lowpass filter;multidimensional product filter...</td>\n",
       "      <td>NaN</td>\n",
       "      <td>NaN</td>\n",
       "    </tr>\n",
       "    <tr>\n",
       "      <th>2</th>\n",
       "      <td>3</td>\n",
       "      <td>Wenhu Wu</td>\n",
       "      <td></td>\n",
       "      <td>1</td>\n",
       "      <td>0</td>\n",
       "      <td>0</td>\n",
       "      <td>0.0000</td>\n",
       "      <td>0.0000</td>\n",
       "      <td>MAP adaptation;adaptation data;adaptation utte...</td>\n",
       "      <td>NaN</td>\n",
       "      <td>NaN</td>\n",
       "    </tr>\n",
       "    <tr>\n",
       "      <th>3</th>\n",
       "      <td>4</td>\n",
       "      <td>Zhiyuan Zeng</td>\n",
       "      <td>College of Geography Science, Nanjing Normal U...</td>\n",
       "      <td>1</td>\n",
       "      <td>0</td>\n",
       "      <td>0</td>\n",
       "      <td>0.0000</td>\n",
       "      <td>0.0000</td>\n",
       "      <td>normalized difference vegetation index;ratio v...</td>\n",
       "      <td>NaN</td>\n",
       "      <td>NaN</td>\n",
       "    </tr>\n",
       "    <tr>\n",
       "      <th>4</th>\n",
       "      <td>5</td>\n",
       "      <td>Erzen Hyko</td>\n",
       "      <td>Department of Computer Science, University of ...</td>\n",
       "      <td>1</td>\n",
       "      <td>0</td>\n",
       "      <td>0</td>\n",
       "      <td>0.0000</td>\n",
       "      <td>0.0000</td>\n",
       "      <td>information content;Spatio-Temporal Informatio...</td>\n",
       "      <td>NaN</td>\n",
       "      <td>NaN</td>\n",
       "    </tr>\n",
       "  </tbody>\n",
       "</table>\n",
       "</div>"
      ],
      "text/plain": [
       "  index             n                                                  a pc  \\\n",
       "0     1     O. Willum  Res. Center for Microperipherik, Technische Un...  1   \n",
       "1     2        D. Wei  Dept. of Electr. & Comput. Eng., Drexel Univ.,...  1   \n",
       "2     3      Wenhu Wu                                                     1   \n",
       "3     4  Zhiyuan Zeng  College of Geography Science, Nanjing Normal U...  1   \n",
       "4     5    Erzen Hyko  Department of Computer Science, University of ...  1   \n",
       "\n",
       "  cn hi      pi     upi                                                  t  \\\n",
       "0  0  0  0.0000  0.0000  new product;product group;active product;long ...   \n",
       "1  0  0  0.0000  0.0000  lowpass filter;multidimensional product filter...   \n",
       "2  0  0  0.0000  0.0000  MAP adaptation;adaptation data;adaptation utte...   \n",
       "3  0  0  0.0000  0.0000  normalized difference vegetation index;ratio v...   \n",
       "4  0  0  0.0000  0.0000  information content;Spatio-Temporal Informatio...   \n",
       "\n",
       "  n-2nd Valladolid,  \n",
       "0   NaN         NaN  \n",
       "1   NaN         NaN  \n",
       "2   NaN         NaN  \n",
       "3   NaN         NaN  \n",
       "4   NaN         NaN  "
      ]
     },
     "execution_count": 10,
     "metadata": {},
     "output_type": "execute_result"
    }
   ],
   "source": [
    "# Load the data\n",
    "\n",
    "author_df = pd.DataFrame(dict_list)\n",
    "print('Author dataset dimension:', author_df.shape)\n",
    "author_df.head()"
   ]
  },
  {
   "cell_type": "code",
   "execution_count": 11,
   "id": "answering-permission",
   "metadata": {},
   "outputs": [
    {
     "data": {
      "text/html": [
       "<div>\n",
       "<style scoped>\n",
       "    .dataframe tbody tr th:only-of-type {\n",
       "        vertical-align: middle;\n",
       "    }\n",
       "\n",
       "    .dataframe tbody tr th {\n",
       "        vertical-align: top;\n",
       "    }\n",
       "\n",
       "    .dataframe thead th {\n",
       "        text-align: right;\n",
       "    }\n",
       "</style>\n",
       "<table border=\"1\" class=\"dataframe\">\n",
       "  <thead>\n",
       "    <tr style=\"text-align: right;\">\n",
       "      <th></th>\n",
       "      <th>id</th>\n",
       "      <th>author</th>\n",
       "      <th>affiliation</th>\n",
       "      <th>papers</th>\n",
       "      <th>citations</th>\n",
       "      <th>h_id</th>\n",
       "      <th>p_id</th>\n",
       "      <th>up_id</th>\n",
       "      <th>research</th>\n",
       "    </tr>\n",
       "  </thead>\n",
       "  <tbody>\n",
       "    <tr>\n",
       "      <th>0</th>\n",
       "      <td>1</td>\n",
       "      <td>O. Willum</td>\n",
       "      <td>Res. Center for Microperipherik, Technische Un...</td>\n",
       "      <td>1</td>\n",
       "      <td>0</td>\n",
       "      <td>0</td>\n",
       "      <td>0.0000</td>\n",
       "      <td>0.0000</td>\n",
       "      <td>new product;product group;active product;long ...</td>\n",
       "    </tr>\n",
       "    <tr>\n",
       "      <th>1</th>\n",
       "      <td>2</td>\n",
       "      <td>D. Wei</td>\n",
       "      <td>Dept. of Electr. &amp; Comput. Eng., Drexel Univ.,...</td>\n",
       "      <td>1</td>\n",
       "      <td>0</td>\n",
       "      <td>0</td>\n",
       "      <td>0.0000</td>\n",
       "      <td>0.0000</td>\n",
       "      <td>lowpass filter;multidimensional product filter...</td>\n",
       "    </tr>\n",
       "    <tr>\n",
       "      <th>2</th>\n",
       "      <td>3</td>\n",
       "      <td>Wenhu Wu</td>\n",
       "      <td></td>\n",
       "      <td>1</td>\n",
       "      <td>0</td>\n",
       "      <td>0</td>\n",
       "      <td>0.0000</td>\n",
       "      <td>0.0000</td>\n",
       "      <td>MAP adaptation;adaptation data;adaptation utte...</td>\n",
       "    </tr>\n",
       "    <tr>\n",
       "      <th>3</th>\n",
       "      <td>4</td>\n",
       "      <td>Zhiyuan Zeng</td>\n",
       "      <td>College of Geography Science, Nanjing Normal U...</td>\n",
       "      <td>1</td>\n",
       "      <td>0</td>\n",
       "      <td>0</td>\n",
       "      <td>0.0000</td>\n",
       "      <td>0.0000</td>\n",
       "      <td>normalized difference vegetation index;ratio v...</td>\n",
       "    </tr>\n",
       "    <tr>\n",
       "      <th>4</th>\n",
       "      <td>5</td>\n",
       "      <td>Erzen Hyko</td>\n",
       "      <td>Department of Computer Science, University of ...</td>\n",
       "      <td>1</td>\n",
       "      <td>0</td>\n",
       "      <td>0</td>\n",
       "      <td>0.0000</td>\n",
       "      <td>0.0000</td>\n",
       "      <td>information content;Spatio-Temporal Informatio...</td>\n",
       "    </tr>\n",
       "  </tbody>\n",
       "</table>\n",
       "</div>"
      ],
      "text/plain": [
       "  id        author                                        affiliation papers  \\\n",
       "0  1     O. Willum  Res. Center for Microperipherik, Technische Un...      1   \n",
       "1  2        D. Wei  Dept. of Electr. & Comput. Eng., Drexel Univ.,...      1   \n",
       "2  3      Wenhu Wu                                                         1   \n",
       "3  4  Zhiyuan Zeng  College of Geography Science, Nanjing Normal U...      1   \n",
       "4  5    Erzen Hyko  Department of Computer Science, University of ...      1   \n",
       "\n",
       "  citations h_id    p_id   up_id  \\\n",
       "0         0    0  0.0000  0.0000   \n",
       "1         0    0  0.0000  0.0000   \n",
       "2         0    0  0.0000  0.0000   \n",
       "3         0    0  0.0000  0.0000   \n",
       "4         0    0  0.0000  0.0000   \n",
       "\n",
       "                                            research  \n",
       "0  new product;product group;active product;long ...  \n",
       "1  lowpass filter;multidimensional product filter...  \n",
       "2  MAP adaptation;adaptation data;adaptation utte...  \n",
       "3  normalized difference vegetation index;ratio v...  \n",
       "4  information content;Spatio-Temporal Informatio...  "
      ]
     },
     "execution_count": 11,
     "metadata": {},
     "output_type": "execute_result"
    }
   ],
   "source": [
    "# Rename the columns\n",
    "author_df.rename({'a': 'affiliation',\n",
    "                 'n': 'author', \n",
    "                  'index':'id',\n",
    "                 'pc': 'papers',\n",
    "                 'cn': 'citations',\n",
    "                  'hi': 'h_id',\n",
    "                  'pi':'p_id',\n",
    "                  'upi':'up_id',\n",
    "                  't': 'research'\n",
    "                 }, axis=1, inplace=True)\n",
    "\n",
    "# Drop the columns n-2nd and Valladolid,\n",
    "author_df = author_df[['id', 'author', 'affiliation', 'papers', 'citations', 'h_id', 'p_id', 'up_id','research']]\n",
    "author_df.head()"
   ]
  },
  {
   "cell_type": "code",
   "execution_count": 12,
   "id": "substantial-housing",
   "metadata": {},
   "outputs": [
    {
     "data": {
      "text/plain": [
       "0"
      ]
     },
     "execution_count": 12,
     "metadata": {},
     "output_type": "execute_result"
    }
   ],
   "source": [
    "# To check if there are any duplicated rows\n",
    "author_df.duplicated().sum()"
   ]
  },
  {
   "cell_type": "code",
   "execution_count": 13,
   "id": "flush-copper",
   "metadata": {},
   "outputs": [
    {
     "name": "stdout",
     "output_type": "stream",
     "text": [
      "<class 'pandas.core.frame.DataFrame'>\n",
      "RangeIndex: 1712433 entries, 0 to 1712432\n",
      "Data columns (total 9 columns):\n",
      " #   Column       Dtype \n",
      "---  ------       ----- \n",
      " 0   id           object\n",
      " 1   author       object\n",
      " 2   affiliation  object\n",
      " 3   papers       object\n",
      " 4   citations    object\n",
      " 5   h_id         object\n",
      " 6   p_id         object\n",
      " 7   up_id        object\n",
      " 8   research     object\n",
      "dtypes: object(9)\n",
      "memory usage: 117.6+ MB\n"
     ]
    }
   ],
   "source": [
    "# Check the types of data\n",
    "author_df.info()"
   ]
  },
  {
   "cell_type": "code",
   "execution_count": 14,
   "id": "interesting-monroe",
   "metadata": {},
   "outputs": [],
   "source": [
    "# Change the data type of columns 'id', 'papers', 'citations', 'h_id', 'p_id', 'up_id'\n",
    "\n",
    "author_df[['id', 'papers', 'citations', 'h_id', 'p_id', 'up_id']] = author_df[['id', 'papers', 'citations', 'h_id', 'p_id', 'up_id']].apply(pd.to_numeric)"
   ]
  },
  {
   "cell_type": "code",
   "execution_count": 15,
   "id": "requested-delta",
   "metadata": {},
   "outputs": [
    {
     "name": "stdout",
     "output_type": "stream",
     "text": [
      "The number of missing values in \"Author\" 0\n",
      "The number of missing values in \"Papers\" 0\n",
      "The number of missing values in \"Citations\" 0\n",
      "The number of missing values in \"Index\" 0\n"
     ]
    }
   ],
   "source": [
    "# To check for missing values\n",
    "print('The number of missing values in \"Author\"',author_df[\"author\"].isnull().sum())\n",
    "print('The number of missing values in \"Papers\"',author_df[\"papers\"].isnull().sum())\n",
    "print('The number of missing values in \"Citations\"',author_df[\"citations\"].isnull().sum())\n",
    "print('The number of missing values in \"Index\"',author_df[\"id\"].isnull().sum())"
   ]
  },
  {
   "cell_type": "code",
   "execution_count": 16,
   "id": "buried-stable",
   "metadata": {},
   "outputs": [
    {
     "data": {
      "text/html": [
       "<div>\n",
       "<style scoped>\n",
       "    .dataframe tbody tr th:only-of-type {\n",
       "        vertical-align: middle;\n",
       "    }\n",
       "\n",
       "    .dataframe tbody tr th {\n",
       "        vertical-align: top;\n",
       "    }\n",
       "\n",
       "    .dataframe thead th {\n",
       "        text-align: right;\n",
       "    }\n",
       "</style>\n",
       "<table border=\"1\" class=\"dataframe\">\n",
       "  <thead>\n",
       "    <tr style=\"text-align: right;\">\n",
       "      <th></th>\n",
       "      <th>author</th>\n",
       "      <th>affiliation</th>\n",
       "      <th>papers</th>\n",
       "      <th>citations</th>\n",
       "      <th>h_id</th>\n",
       "      <th>p_id</th>\n",
       "      <th>up_id</th>\n",
       "      <th>research</th>\n",
       "    </tr>\n",
       "    <tr>\n",
       "      <th>id</th>\n",
       "      <th></th>\n",
       "      <th></th>\n",
       "      <th></th>\n",
       "      <th></th>\n",
       "      <th></th>\n",
       "      <th></th>\n",
       "      <th></th>\n",
       "      <th></th>\n",
       "    </tr>\n",
       "  </thead>\n",
       "  <tbody>\n",
       "    <tr>\n",
       "      <th>1</th>\n",
       "      <td>O. Willum</td>\n",
       "      <td>Res. Center for Microperipherik, Technische Un...</td>\n",
       "      <td>1</td>\n",
       "      <td>0</td>\n",
       "      <td>0</td>\n",
       "      <td>0.0</td>\n",
       "      <td>0.0</td>\n",
       "      <td>new product;product group;active product;long ...</td>\n",
       "    </tr>\n",
       "    <tr>\n",
       "      <th>2</th>\n",
       "      <td>D. Wei</td>\n",
       "      <td>Dept. of Electr. &amp; Comput. Eng., Drexel Univ.,...</td>\n",
       "      <td>1</td>\n",
       "      <td>0</td>\n",
       "      <td>0</td>\n",
       "      <td>0.0</td>\n",
       "      <td>0.0</td>\n",
       "      <td>lowpass filter;multidimensional product filter...</td>\n",
       "    </tr>\n",
       "    <tr>\n",
       "      <th>3</th>\n",
       "      <td>Wenhu Wu</td>\n",
       "      <td></td>\n",
       "      <td>1</td>\n",
       "      <td>0</td>\n",
       "      <td>0</td>\n",
       "      <td>0.0</td>\n",
       "      <td>0.0</td>\n",
       "      <td>MAP adaptation;adaptation data;adaptation utte...</td>\n",
       "    </tr>\n",
       "    <tr>\n",
       "      <th>4</th>\n",
       "      <td>Zhiyuan Zeng</td>\n",
       "      <td>College of Geography Science, Nanjing Normal U...</td>\n",
       "      <td>1</td>\n",
       "      <td>0</td>\n",
       "      <td>0</td>\n",
       "      <td>0.0</td>\n",
       "      <td>0.0</td>\n",
       "      <td>normalized difference vegetation index;ratio v...</td>\n",
       "    </tr>\n",
       "    <tr>\n",
       "      <th>5</th>\n",
       "      <td>Erzen Hyko</td>\n",
       "      <td>Department of Computer Science, University of ...</td>\n",
       "      <td>1</td>\n",
       "      <td>0</td>\n",
       "      <td>0</td>\n",
       "      <td>0.0</td>\n",
       "      <td>0.0</td>\n",
       "      <td>information content;Spatio-Temporal Informatio...</td>\n",
       "    </tr>\n",
       "  </tbody>\n",
       "</table>\n",
       "</div>"
      ],
      "text/plain": [
       "          author                                        affiliation  papers  \\\n",
       "id                                                                            \n",
       "1      O. Willum  Res. Center for Microperipherik, Technische Un...       1   \n",
       "2         D. Wei  Dept. of Electr. & Comput. Eng., Drexel Univ.,...       1   \n",
       "3       Wenhu Wu                                                          1   \n",
       "4   Zhiyuan Zeng  College of Geography Science, Nanjing Normal U...       1   \n",
       "5     Erzen Hyko  Department of Computer Science, University of ...       1   \n",
       "\n",
       "    citations  h_id  p_id  up_id  \\\n",
       "id                                 \n",
       "1           0     0   0.0    0.0   \n",
       "2           0     0   0.0    0.0   \n",
       "3           0     0   0.0    0.0   \n",
       "4           0     0   0.0    0.0   \n",
       "5           0     0   0.0    0.0   \n",
       "\n",
       "                                             research  \n",
       "id                                                     \n",
       "1   new product;product group;active product;long ...  \n",
       "2   lowpass filter;multidimensional product filter...  \n",
       "3   MAP adaptation;adaptation data;adaptation utte...  \n",
       "4   normalized difference vegetation index;ratio v...  \n",
       "5   information content;Spatio-Temporal Informatio...  "
      ]
     },
     "execution_count": 16,
     "metadata": {},
     "output_type": "execute_result"
    }
   ],
   "source": [
    "# for nodes change the index\n",
    "nodes_df = author_df.set_index(['id'])\n",
    "nodes_df.head()"
   ]
  },
  {
   "cell_type": "code",
   "execution_count": 17,
   "id": "artistic-amplifier",
   "metadata": {},
   "outputs": [],
   "source": [
    "# to later add attributes to nodes\n",
    "nodes_attributes = nodes_df.to_dict('index')"
   ]
  },
  {
   "cell_type": "code",
   "execution_count": 18,
   "id": "assumed-folks",
   "metadata": {},
   "outputs": [
    {
     "data": {
      "text/plain": [
       "'Name: \\nType: Graph\\nNumber of nodes: 1560640\\nNumber of edges: 4258946\\nAverage degree:   5.4579'"
      ]
     },
     "execution_count": 18,
     "metadata": {},
     "output_type": "execute_result"
    }
   ],
   "source": [
    "# To create a network\n",
    "\n",
    "G = nx.from_pandas_edgelist(df, source='source', target='target', edge_attr=True)\n",
    "nx.set_node_attributes(G, nodes_attributes)\n",
    "nx.info(G)"
   ]
  },
  {
   "cell_type": "code",
   "execution_count": 19,
   "id": "automatic-sellers",
   "metadata": {},
   "outputs": [
    {
     "name": "stdout",
     "output_type": "stream",
     "text": [
      "False\n"
     ]
    }
   ],
   "source": [
    "# To check if the network is connected\n",
    "print(nx.is_connected(G))"
   ]
  },
  {
   "cell_type": "code",
   "execution_count": 20,
   "id": "existing-solution",
   "metadata": {},
   "outputs": [
    {
     "data": {
      "text/plain": [
       "156240"
      ]
     },
     "execution_count": 20,
     "metadata": {},
     "output_type": "execute_result"
    }
   ],
   "source": [
    "# Check the number of connected components in the network\n",
    "nx.number_connected_components(G)"
   ]
  },
  {
   "cell_type": "code",
   "execution_count": 21,
   "id": "generous-advantage",
   "metadata": {},
   "outputs": [],
   "source": [
    "node_sets = list(nx.connected_components(G))\n",
    "nn = []\n",
    "for i in node_sets:\n",
    "    nn.append(len(i))"
   ]
  },
  {
   "cell_type": "code",
   "execution_count": 23,
   "id": "middle-intervention",
   "metadata": {
    "scrolled": false
   },
   "outputs": [
    {
     "name": "stdout",
     "output_type": "stream",
     "text": [
      "1057194\n",
      "83\n"
     ]
    }
   ],
   "source": [
    "# The first and second largest components\n",
    "nn.sort(reverse=True)\n",
    "print(nn[0])\n",
    "print(nn[1])"
   ]
  },
  {
   "cell_type": "code",
   "execution_count": null,
   "id": "south-cabinet",
   "metadata": {},
   "outputs": [],
   "source": [
    "plt.figure(figsize=(25,25))\n",
    "nx.draw_networkx(G_w)\n",
    "plt.show()"
   ]
  },
  {
   "cell_type": "code",
   "execution_count": null,
   "id": "ordered-underwear",
   "metadata": {},
   "outputs": [],
   "source": [
    "nx.density(G)"
   ]
  },
  {
   "cell_type": "code",
   "execution_count": null,
   "id": "wound-indicator",
   "metadata": {},
   "outputs": [],
   "source": [
    "nx.average_clustering(G, weight = 'weight')"
   ]
  },
  {
   "cell_type": "code",
   "execution_count": null,
   "id": "pending-degree",
   "metadata": {},
   "outputs": [],
   "source": [
    "degree_centrality = nx.degree_centrality(G)\n",
    "\n",
    "#Sort for identifying most inflential nodes using degree centrality\n",
    "for node in sorted(degree_centrality, key=degree_centrality.get, reverse=True)[:4]:\n",
    "    print(node,G.nodes[node]['author'], degree_centrality[node])"
   ]
  },
  {
   "cell_type": "code",
   "execution_count": null,
   "id": "effective-outdoors",
   "metadata": {},
   "outputs": [],
   "source": [
    "G_distance_dict = {(e1, e2): 1 / weight for e1, e2, weight in G.edges(data='weight')}\n",
    "# set_edge_attributes(G, name, values)\n",
    "nx.set_edge_attributes(G,G_distance_dict, 'distance')\n",
    "closeness_centrality = nx.closeness_centrality(G, distance='distance')\n",
    "\n",
    "for node in sorted(closeness_centrality, key=closeness_centrality.get, reverse=True)[:4]:\n",
    "    print(node,G.nodes[node]['author'], closeness_centrality[node])"
   ]
  },
  {
   "cell_type": "code",
   "execution_count": null,
   "id": "dangerous-telling",
   "metadata": {},
   "outputs": [],
   "source": [
    "eigenvector_centrality_weighted = nx.eigenvector_centrality(G, weight='weight')\n",
    "\n",
    "for node in sorted(eigenvector_centrality_weighted, key=eigenvector_centrality_weighted.get, reverse=True)[:4]:\n",
    "    print(node, G.nodes[node]['author'], eigenvector_centrality_weighted[node])"
   ]
  }
 ],
 "metadata": {
  "kernelspec": {
   "display_name": "Python 3",
   "language": "python",
   "name": "python3"
  },
  "language_info": {
   "codemirror_mode": {
    "name": "ipython",
    "version": 3
   },
   "file_extension": ".py",
   "mimetype": "text/x-python",
   "name": "python",
   "nbconvert_exporter": "python",
   "pygments_lexer": "ipython3",
   "version": "3.9.2"
  }
 },
 "nbformat": 4,
 "nbformat_minor": 5
}

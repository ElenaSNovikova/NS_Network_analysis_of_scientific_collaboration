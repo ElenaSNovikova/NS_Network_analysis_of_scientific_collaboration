{
 "cells": [
  {
   "cell_type": "markdown",
   "metadata": {},
   "source": [
    "<h1><center> <font color='black'> Network Analysis of Scientific Collaboration</font></center></h1>\n",
    "<h2><center> <font color='black'> Data Preparation & Descriptive Analysis</font></center>"
   ]
  },
  {
   "cell_type": "markdown",
   "metadata": {},
   "source": [
    "# Data Preparation"
   ]
  },
  {
   "cell_type": "markdown",
   "metadata": {
    "id": "GvZ0T-ZTKHDo"
   },
   "source": [
    "# Libraries"
   ]
  },
  {
   "cell_type": "code",
   "execution_count": 1,
   "metadata": {
    "id": "pk0lHTXHKHDo"
   },
   "outputs": [],
   "source": [
    "# Importing required libraries\n",
    "\n",
    "import networkx as nx\n",
    "from networkx.algorithms import community\n",
    "import pandas as pd\n",
    "import numpy as np\n",
    "import itertools\n",
    "import os\n",
    "import random\n",
    "from tqdm import tqdm\n",
    "import re\n",
    "from IPython.display import display, HTML\n",
    "import matplotlib.pyplot as plt\n",
    "from itertools import cycle, chain\n",
    "\n",
    "%matplotlib inline"
   ]
  },
  {
   "cell_type": "markdown",
   "metadata": {
    "id": "qjyVjTmFLuJD"
   },
   "source": [
    "# Loading the data"
   ]
  },
  {
   "cell_type": "markdown",
   "metadata": {},
   "source": [
    "Loading the data from AMiner-Coauthor"
   ]
  },
  {
   "cell_type": "code",
   "execution_count": 2,
   "metadata": {
    "colab": {
     "base_uri": "https://localhost:8080/",
     "height": 223
    },
    "id": "rvpwv6RSci0d",
    "outputId": "c54dcc7c-17b9-4902-ee23-11ebe4ea76c3"
   },
   "outputs": [
    {
     "name": "stdout",
     "output_type": "stream",
     "text": [
      "Coauthor dataset dimension: (4258946, 3)\n"
     ]
    },
    {
     "data": {
      "text/html": [
       "<div>\n",
       "<style scoped>\n",
       "    .dataframe tbody tr th:only-of-type {\n",
       "        vertical-align: middle;\n",
       "    }\n",
       "\n",
       "    .dataframe tbody tr th {\n",
       "        vertical-align: top;\n",
       "    }\n",
       "\n",
       "    .dataframe thead th {\n",
       "        text-align: right;\n",
       "    }\n",
       "</style>\n",
       "<table border=\"1\" class=\"dataframe\">\n",
       "  <thead>\n",
       "    <tr style=\"text-align: right;\">\n",
       "      <th></th>\n",
       "      <th>source</th>\n",
       "      <th>target</th>\n",
       "      <th>weight</th>\n",
       "    </tr>\n",
       "  </thead>\n",
       "  <tbody>\n",
       "    <tr>\n",
       "      <th>0</th>\n",
       "      <td>#522324</td>\n",
       "      <td>1034146</td>\n",
       "      <td>1</td>\n",
       "    </tr>\n",
       "    <tr>\n",
       "      <th>1</th>\n",
       "      <td>#1355779</td>\n",
       "      <td>1229932</td>\n",
       "      <td>2</td>\n",
       "    </tr>\n",
       "    <tr>\n",
       "      <th>2</th>\n",
       "      <td>#688814</td>\n",
       "      <td>947067</td>\n",
       "      <td>2</td>\n",
       "    </tr>\n",
       "    <tr>\n",
       "      <th>3</th>\n",
       "      <td>#1329221</td>\n",
       "      <td>1140429</td>\n",
       "      <td>1</td>\n",
       "    </tr>\n",
       "    <tr>\n",
       "      <th>4</th>\n",
       "      <td>#742331</td>\n",
       "      <td>314944</td>\n",
       "      <td>1</td>\n",
       "    </tr>\n",
       "  </tbody>\n",
       "</table>\n",
       "</div>"
      ],
      "text/plain": [
       "     source   target  weight\n",
       "0   #522324  1034146       1\n",
       "1  #1355779  1229932       2\n",
       "2   #688814   947067       2\n",
       "3  #1329221  1140429       1\n",
       "4   #742331   314944       1"
      ]
     },
     "execution_count": 2,
     "metadata": {},
     "output_type": "execute_result"
    }
   ],
   "source": [
    "df = pd.read_csv('AMiner-Coauthor.txt', delimiter = \"\\t\", header = None, names=[\"source\", \"target\", \"weight\"])\n",
    "print('Coauthor dataset dimension:', df.shape)\n",
    "df.head()"
   ]
  },
  {
   "cell_type": "code",
   "execution_count": 3,
   "metadata": {
    "id": "_jZhvlRwci3G"
   },
   "outputs": [],
   "source": [
    "# Change the column 'source'\n",
    "df[\"source\"] = (df[\"source\"].str.strip('#').astype(int))"
   ]
  },
  {
   "cell_type": "code",
   "execution_count": 4,
   "metadata": {
    "colab": {
     "base_uri": "https://localhost:8080/",
     "height": 206
    },
    "id": "yUwlaLcyLGvO",
    "outputId": "0c79fd74-35a3-40d7-82e6-bc8c66458036"
   },
   "outputs": [
    {
     "data": {
      "text/html": [
       "<div>\n",
       "<style scoped>\n",
       "    .dataframe tbody tr th:only-of-type {\n",
       "        vertical-align: middle;\n",
       "    }\n",
       "\n",
       "    .dataframe tbody tr th {\n",
       "        vertical-align: top;\n",
       "    }\n",
       "\n",
       "    .dataframe thead th {\n",
       "        text-align: right;\n",
       "    }\n",
       "</style>\n",
       "<table border=\"1\" class=\"dataframe\">\n",
       "  <thead>\n",
       "    <tr style=\"text-align: right;\">\n",
       "      <th></th>\n",
       "      <th>source</th>\n",
       "      <th>target</th>\n",
       "      <th>weight</th>\n",
       "    </tr>\n",
       "  </thead>\n",
       "  <tbody>\n",
       "    <tr>\n",
       "      <th>0</th>\n",
       "      <td>522324</td>\n",
       "      <td>1034146</td>\n",
       "      <td>1</td>\n",
       "    </tr>\n",
       "    <tr>\n",
       "      <th>1</th>\n",
       "      <td>1355779</td>\n",
       "      <td>1229932</td>\n",
       "      <td>2</td>\n",
       "    </tr>\n",
       "    <tr>\n",
       "      <th>2</th>\n",
       "      <td>688814</td>\n",
       "      <td>947067</td>\n",
       "      <td>2</td>\n",
       "    </tr>\n",
       "    <tr>\n",
       "      <th>3</th>\n",
       "      <td>1329221</td>\n",
       "      <td>1140429</td>\n",
       "      <td>1</td>\n",
       "    </tr>\n",
       "    <tr>\n",
       "      <th>4</th>\n",
       "      <td>742331</td>\n",
       "      <td>314944</td>\n",
       "      <td>1</td>\n",
       "    </tr>\n",
       "  </tbody>\n",
       "</table>\n",
       "</div>"
      ],
      "text/plain": [
       "    source   target  weight\n",
       "0   522324  1034146       1\n",
       "1  1355779  1229932       2\n",
       "2   688814   947067       2\n",
       "3  1329221  1140429       1\n",
       "4   742331   314944       1"
      ]
     },
     "execution_count": 4,
     "metadata": {},
     "output_type": "execute_result"
    }
   ],
   "source": [
    "# To check that the data was loadedd correctly\n",
    "df.head()"
   ]
  },
  {
   "cell_type": "code",
   "execution_count": 5,
   "metadata": {
    "colab": {
     "base_uri": "https://localhost:8080/"
    },
    "id": "bX8elidzR465",
    "outputId": "a320d132-a64c-4e1f-b782-8248c125d43f"
   },
   "outputs": [
    {
     "name": "stdout",
     "output_type": "stream",
     "text": [
      "<class 'pandas.core.frame.DataFrame'>\n",
      "RangeIndex: 4258946 entries, 0 to 4258945\n",
      "Data columns (total 3 columns):\n",
      " #   Column  Dtype\n",
      "---  ------  -----\n",
      " 0   source  int32\n",
      " 1   target  int64\n",
      " 2   weight  int64\n",
      "dtypes: int32(1), int64(2)\n",
      "memory usage: 81.2 MB\n"
     ]
    }
   ],
   "source": [
    "# To check the data types of columns\n",
    "df.info()"
   ]
  },
  {
   "cell_type": "code",
   "execution_count": 6,
   "metadata": {
    "colab": {
     "base_uri": "https://localhost:8080/"
    },
    "id": "aKdxcvl4Msmz",
    "outputId": "35073517-ac48-41f4-ebdd-f8b9dd866b5f"
   },
   "outputs": [
    {
     "data": {
      "text/plain": [
       "False"
      ]
     },
     "execution_count": 6,
     "metadata": {},
     "output_type": "execute_result"
    }
   ],
   "source": [
    "# To check if there are any NaN values\n",
    "df.isnull().values.any()"
   ]
  },
  {
   "cell_type": "code",
   "execution_count": 7,
   "metadata": {
    "colab": {
     "base_uri": "https://localhost:8080/"
    },
    "id": "ORRvyP83MsqR",
    "outputId": "bd136ba2-600f-4643-a67d-f862852679e3"
   },
   "outputs": [
    {
     "data": {
      "text/plain": [
       "0"
      ]
     },
     "execution_count": 7,
     "metadata": {},
     "output_type": "execute_result"
    }
   ],
   "source": [
    "# To check if there are any duplicated rows\n",
    "df.duplicated().sum()"
   ]
  },
  {
   "cell_type": "code",
   "execution_count": 8,
   "metadata": {
    "id": "YHPt3AmdMdad"
   },
   "outputs": [],
   "source": [
    "# to check if there are any self-loops\n",
    "for i in range(df.shape[0]):\n",
    "    if df['source'][i] == df['target'][i]:\n",
    "        print(i)"
   ]
  },
  {
   "cell_type": "markdown",
   "metadata": {
    "id": "EeHWi4qiM441"
   },
   "source": [
    "Loading the data from AMiner-Author"
   ]
  },
  {
   "cell_type": "code",
   "execution_count": 9,
   "metadata": {
    "id": "Iok-LZ_gfe0L"
   },
   "outputs": [],
   "source": [
    "# Source of this function for preprocessing https://www.kaggle.com/kmader/preprocessing-author-data\n",
    "\n",
    "with open(os.path.join('AMiner-Author.txt'), 'r', errors='ignore') as f:\n",
    "    dict_list = []\n",
    "    c_dict = {}\n",
    "    for i, line in enumerate(f):\n",
    "        c_line = line.strip()[1:].strip()\n",
    "        if len(c_line)<1:\n",
    "            if len(c_dict)>0:\n",
    "                dict_list += [c_dict]\n",
    "            c_dict = {}\n",
    "        else:\n",
    "            c_frag = c_line.split(' ')\n",
    "            c_dict[c_frag[0]] = ' '.join(c_frag[1:])"
   ]
  },
  {
   "cell_type": "code",
   "execution_count": 10,
   "metadata": {
    "colab": {
     "base_uri": "https://localhost:8080/",
     "height": 397
    },
    "id": "GhHjC3E8fe6l",
    "outputId": "2e71e675-898b-4e83-f32d-40b8442e1e57"
   },
   "outputs": [
    {
     "name": "stdout",
     "output_type": "stream",
     "text": [
      "Author dataset dimension: (1712433, 11)\n"
     ]
    },
    {
     "data": {
      "text/html": [
       "<div>\n",
       "<style scoped>\n",
       "    .dataframe tbody tr th:only-of-type {\n",
       "        vertical-align: middle;\n",
       "    }\n",
       "\n",
       "    .dataframe tbody tr th {\n",
       "        vertical-align: top;\n",
       "    }\n",
       "\n",
       "    .dataframe thead th {\n",
       "        text-align: right;\n",
       "    }\n",
       "</style>\n",
       "<table border=\"1\" class=\"dataframe\">\n",
       "  <thead>\n",
       "    <tr style=\"text-align: right;\">\n",
       "      <th></th>\n",
       "      <th>index</th>\n",
       "      <th>n</th>\n",
       "      <th>a</th>\n",
       "      <th>pc</th>\n",
       "      <th>cn</th>\n",
       "      <th>hi</th>\n",
       "      <th>pi</th>\n",
       "      <th>upi</th>\n",
       "      <th>t</th>\n",
       "      <th>n-2nd</th>\n",
       "      <th>Valladolid,</th>\n",
       "    </tr>\n",
       "  </thead>\n",
       "  <tbody>\n",
       "    <tr>\n",
       "      <th>0</th>\n",
       "      <td>1</td>\n",
       "      <td>O. Willum</td>\n",
       "      <td>Res. Center for Microperipherik, Technische Un...</td>\n",
       "      <td>1</td>\n",
       "      <td>0</td>\n",
       "      <td>0</td>\n",
       "      <td>0.0000</td>\n",
       "      <td>0.0000</td>\n",
       "      <td>new product;product group;active product;long ...</td>\n",
       "      <td>NaN</td>\n",
       "      <td>NaN</td>\n",
       "    </tr>\n",
       "    <tr>\n",
       "      <th>1</th>\n",
       "      <td>2</td>\n",
       "      <td>D. Wei</td>\n",
       "      <td>Dept. of Electr. &amp; Comput. Eng., Drexel Univ.,...</td>\n",
       "      <td>1</td>\n",
       "      <td>0</td>\n",
       "      <td>0</td>\n",
       "      <td>0.0000</td>\n",
       "      <td>0.0000</td>\n",
       "      <td>lowpass filter;multidimensional product filter...</td>\n",
       "      <td>NaN</td>\n",
       "      <td>NaN</td>\n",
       "    </tr>\n",
       "    <tr>\n",
       "      <th>2</th>\n",
       "      <td>3</td>\n",
       "      <td>Wenhu Wu</td>\n",
       "      <td></td>\n",
       "      <td>1</td>\n",
       "      <td>0</td>\n",
       "      <td>0</td>\n",
       "      <td>0.0000</td>\n",
       "      <td>0.0000</td>\n",
       "      <td>MAP adaptation;adaptation data;adaptation utte...</td>\n",
       "      <td>NaN</td>\n",
       "      <td>NaN</td>\n",
       "    </tr>\n",
       "    <tr>\n",
       "      <th>3</th>\n",
       "      <td>4</td>\n",
       "      <td>Zhiyuan Zeng</td>\n",
       "      <td>College of Geography Science, Nanjing Normal U...</td>\n",
       "      <td>1</td>\n",
       "      <td>0</td>\n",
       "      <td>0</td>\n",
       "      <td>0.0000</td>\n",
       "      <td>0.0000</td>\n",
       "      <td>normalized difference vegetation index;ratio v...</td>\n",
       "      <td>NaN</td>\n",
       "      <td>NaN</td>\n",
       "    </tr>\n",
       "    <tr>\n",
       "      <th>4</th>\n",
       "      <td>5</td>\n",
       "      <td>Erzen Hyko</td>\n",
       "      <td>Department of Computer Science, University of ...</td>\n",
       "      <td>1</td>\n",
       "      <td>0</td>\n",
       "      <td>0</td>\n",
       "      <td>0.0000</td>\n",
       "      <td>0.0000</td>\n",
       "      <td>information content;Spatio-Temporal Informatio...</td>\n",
       "      <td>NaN</td>\n",
       "      <td>NaN</td>\n",
       "    </tr>\n",
       "  </tbody>\n",
       "</table>\n",
       "</div>"
      ],
      "text/plain": [
       "  index             n                                                  a pc  \\\n",
       "0     1     O. Willum  Res. Center for Microperipherik, Technische Un...  1   \n",
       "1     2        D. Wei  Dept. of Electr. & Comput. Eng., Drexel Univ.,...  1   \n",
       "2     3      Wenhu Wu                                                     1   \n",
       "3     4  Zhiyuan Zeng  College of Geography Science, Nanjing Normal U...  1   \n",
       "4     5    Erzen Hyko  Department of Computer Science, University of ...  1   \n",
       "\n",
       "  cn hi      pi     upi                                                  t  \\\n",
       "0  0  0  0.0000  0.0000  new product;product group;active product;long ...   \n",
       "1  0  0  0.0000  0.0000  lowpass filter;multidimensional product filter...   \n",
       "2  0  0  0.0000  0.0000  MAP adaptation;adaptation data;adaptation utte...   \n",
       "3  0  0  0.0000  0.0000  normalized difference vegetation index;ratio v...   \n",
       "4  0  0  0.0000  0.0000  information content;Spatio-Temporal Informatio...   \n",
       "\n",
       "  n-2nd Valladolid,  \n",
       "0   NaN         NaN  \n",
       "1   NaN         NaN  \n",
       "2   NaN         NaN  \n",
       "3   NaN         NaN  \n",
       "4   NaN         NaN  "
      ]
     },
     "execution_count": 10,
     "metadata": {},
     "output_type": "execute_result"
    }
   ],
   "source": [
    "# Loading the data\n",
    "\n",
    "author_df = pd.DataFrame(dict_list)\n",
    "print('Author dataset dimension:', author_df.shape)\n",
    "author_df.head()"
   ]
  },
  {
   "cell_type": "code",
   "execution_count": 11,
   "metadata": {
    "colab": {
     "base_uri": "https://localhost:8080/",
     "height": 310
    },
    "id": "virSY6rXfe_m",
    "outputId": "91d082a6-1e5b-42bb-f3e0-35ee9208fc79"
   },
   "outputs": [
    {
     "data": {
      "text/html": [
       "<div>\n",
       "<style scoped>\n",
       "    .dataframe tbody tr th:only-of-type {\n",
       "        vertical-align: middle;\n",
       "    }\n",
       "\n",
       "    .dataframe tbody tr th {\n",
       "        vertical-align: top;\n",
       "    }\n",
       "\n",
       "    .dataframe thead th {\n",
       "        text-align: right;\n",
       "    }\n",
       "</style>\n",
       "<table border=\"1\" class=\"dataframe\">\n",
       "  <thead>\n",
       "    <tr style=\"text-align: right;\">\n",
       "      <th></th>\n",
       "      <th>id</th>\n",
       "      <th>author</th>\n",
       "      <th>affiliation</th>\n",
       "      <th>papers</th>\n",
       "      <th>citations</th>\n",
       "      <th>h_id</th>\n",
       "      <th>p_id</th>\n",
       "      <th>up_id</th>\n",
       "      <th>research</th>\n",
       "    </tr>\n",
       "  </thead>\n",
       "  <tbody>\n",
       "    <tr>\n",
       "      <th>0</th>\n",
       "      <td>1</td>\n",
       "      <td>O. Willum</td>\n",
       "      <td>Res. Center for Microperipherik, Technische Un...</td>\n",
       "      <td>1</td>\n",
       "      <td>0</td>\n",
       "      <td>0</td>\n",
       "      <td>0.0000</td>\n",
       "      <td>0.0000</td>\n",
       "      <td>new product;product group;active product;long ...</td>\n",
       "    </tr>\n",
       "    <tr>\n",
       "      <th>1</th>\n",
       "      <td>2</td>\n",
       "      <td>D. Wei</td>\n",
       "      <td>Dept. of Electr. &amp; Comput. Eng., Drexel Univ.,...</td>\n",
       "      <td>1</td>\n",
       "      <td>0</td>\n",
       "      <td>0</td>\n",
       "      <td>0.0000</td>\n",
       "      <td>0.0000</td>\n",
       "      <td>lowpass filter;multidimensional product filter...</td>\n",
       "    </tr>\n",
       "    <tr>\n",
       "      <th>2</th>\n",
       "      <td>3</td>\n",
       "      <td>Wenhu Wu</td>\n",
       "      <td></td>\n",
       "      <td>1</td>\n",
       "      <td>0</td>\n",
       "      <td>0</td>\n",
       "      <td>0.0000</td>\n",
       "      <td>0.0000</td>\n",
       "      <td>MAP adaptation;adaptation data;adaptation utte...</td>\n",
       "    </tr>\n",
       "    <tr>\n",
       "      <th>3</th>\n",
       "      <td>4</td>\n",
       "      <td>Zhiyuan Zeng</td>\n",
       "      <td>College of Geography Science, Nanjing Normal U...</td>\n",
       "      <td>1</td>\n",
       "      <td>0</td>\n",
       "      <td>0</td>\n",
       "      <td>0.0000</td>\n",
       "      <td>0.0000</td>\n",
       "      <td>normalized difference vegetation index;ratio v...</td>\n",
       "    </tr>\n",
       "    <tr>\n",
       "      <th>4</th>\n",
       "      <td>5</td>\n",
       "      <td>Erzen Hyko</td>\n",
       "      <td>Department of Computer Science, University of ...</td>\n",
       "      <td>1</td>\n",
       "      <td>0</td>\n",
       "      <td>0</td>\n",
       "      <td>0.0000</td>\n",
       "      <td>0.0000</td>\n",
       "      <td>information content;Spatio-Temporal Informatio...</td>\n",
       "    </tr>\n",
       "  </tbody>\n",
       "</table>\n",
       "</div>"
      ],
      "text/plain": [
       "  id        author                                        affiliation papers  \\\n",
       "0  1     O. Willum  Res. Center for Microperipherik, Technische Un...      1   \n",
       "1  2        D. Wei  Dept. of Electr. & Comput. Eng., Drexel Univ.,...      1   \n",
       "2  3      Wenhu Wu                                                         1   \n",
       "3  4  Zhiyuan Zeng  College of Geography Science, Nanjing Normal U...      1   \n",
       "4  5    Erzen Hyko  Department of Computer Science, University of ...      1   \n",
       "\n",
       "  citations h_id    p_id   up_id  \\\n",
       "0         0    0  0.0000  0.0000   \n",
       "1         0    0  0.0000  0.0000   \n",
       "2         0    0  0.0000  0.0000   \n",
       "3         0    0  0.0000  0.0000   \n",
       "4         0    0  0.0000  0.0000   \n",
       "\n",
       "                                            research  \n",
       "0  new product;product group;active product;long ...  \n",
       "1  lowpass filter;multidimensional product filter...  \n",
       "2  MAP adaptation;adaptation data;adaptation utte...  \n",
       "3  normalized difference vegetation index;ratio v...  \n",
       "4  information content;Spatio-Temporal Informatio...  "
      ]
     },
     "execution_count": 11,
     "metadata": {},
     "output_type": "execute_result"
    }
   ],
   "source": [
    "# Rename the columns\n",
    "author_df.rename({'a': 'affiliation',\n",
    "                 'n': 'author', \n",
    "                  'index':'id',\n",
    "                 'pc': 'papers',\n",
    "                 'cn': 'citations',\n",
    "                  'hi': 'h_id',\n",
    "                  'pi':'p_id',\n",
    "                  'upi':'up_id',\n",
    "                  't': 'research'\n",
    "                 }, axis=1, inplace=True)\n",
    "\n",
    "# Drop the columns n-2nd and Valladolid,\n",
    "author_df = author_df[['id', 'author', 'affiliation', 'papers', 'citations', 'h_id', 'p_id', 'up_id','research']]\n",
    "author_df.head()"
   ]
  },
  {
   "cell_type": "code",
   "execution_count": 12,
   "metadata": {
    "colab": {
     "base_uri": "https://localhost:8080/"
    },
    "id": "mtOpdjXoyQXa",
    "outputId": "c33b9a91-c8f3-4dfa-992a-40187cadd0dd"
   },
   "outputs": [
    {
     "data": {
      "text/plain": [
       "0"
      ]
     },
     "execution_count": 12,
     "metadata": {},
     "output_type": "execute_result"
    }
   ],
   "source": [
    "# To check if there are any duplicated rows\n",
    "author_df.duplicated().sum()"
   ]
  },
  {
   "cell_type": "code",
   "execution_count": 13,
   "metadata": {
    "colab": {
     "base_uri": "https://localhost:8080/"
    },
    "id": "qTTlCfICffGg",
    "outputId": "6ac15bd2-20f3-4044-930f-613fab61a23d"
   },
   "outputs": [
    {
     "name": "stdout",
     "output_type": "stream",
     "text": [
      "<class 'pandas.core.frame.DataFrame'>\n",
      "RangeIndex: 1712433 entries, 0 to 1712432\n",
      "Data columns (total 9 columns):\n",
      " #   Column       Dtype \n",
      "---  ------       ----- \n",
      " 0   id           object\n",
      " 1   author       object\n",
      " 2   affiliation  object\n",
      " 3   papers       object\n",
      " 4   citations    object\n",
      " 5   h_id         object\n",
      " 6   p_id         object\n",
      " 7   up_id        object\n",
      " 8   research     object\n",
      "dtypes: object(9)\n",
      "memory usage: 117.6+ MB\n"
     ]
    }
   ],
   "source": [
    "# Check the types of data\n",
    "author_df.info()"
   ]
  },
  {
   "cell_type": "code",
   "execution_count": 14,
   "metadata": {
    "colab": {
     "base_uri": "https://localhost:8080/"
    },
    "id": "17pdMuSNxjZX",
    "outputId": "1a252a95-b659-4381-d7c4-73bdba25b43e"
   },
   "outputs": [
    {
     "name": "stdout",
     "output_type": "stream",
     "text": [
      "The number of missing values in \"Author\" 0\n",
      "The number of missing values in \"Papers\" 0\n",
      "The number of missing values in \"Citations\" 0\n",
      "The number of missing values in \"Index\" 0\n",
      "The number of missing values in \"Research\" 0\n"
     ]
    }
   ],
   "source": [
    "# To check for missing values\n",
    "print('The number of missing values in \"Author\"',author_df[\"author\"].isnull().sum())\n",
    "print('The number of missing values in \"Papers\"',author_df[\"papers\"].isnull().sum())\n",
    "print('The number of missing values in \"Citations\"',author_df[\"citations\"].isnull().sum())\n",
    "print('The number of missing values in \"Index\"',author_df[\"id\"].isnull().sum())\n",
    "print('The number of missing values in \"Research\"',author_df[\"research\"].isnull().sum())"
   ]
  },
  {
   "cell_type": "code",
   "execution_count": 15,
   "metadata": {
    "id": "kkgmDQJkfpIH"
   },
   "outputs": [],
   "source": [
    "# Change the data type of columns 'id', 'papers', 'citations', 'h_id', 'p_id', 'up_id'\n",
    "\n",
    "author_df[['id', 'papers', 'citations', 'h_id', 'p_id', 'up_id']] = author_df[['id', 'papers', 'citations', 'h_id', 'p_id', 'up_id']].apply(pd.to_numeric)"
   ]
  },
  {
   "cell_type": "code",
   "execution_count": 16,
   "metadata": {
    "colab": {
     "base_uri": "https://localhost:8080/",
     "height": 324
    },
    "id": "T8cMF6bVfpOh",
    "outputId": "3fa6484d-d123-4498-944a-9a188a51661f"
   },
   "outputs": [
    {
     "data": {
      "text/html": [
       "<div>\n",
       "<style scoped>\n",
       "    .dataframe tbody tr th:only-of-type {\n",
       "        vertical-align: middle;\n",
       "    }\n",
       "\n",
       "    .dataframe tbody tr th {\n",
       "        vertical-align: top;\n",
       "    }\n",
       "\n",
       "    .dataframe thead th {\n",
       "        text-align: right;\n",
       "    }\n",
       "</style>\n",
       "<table border=\"1\" class=\"dataframe\">\n",
       "  <thead>\n",
       "    <tr style=\"text-align: right;\">\n",
       "      <th></th>\n",
       "      <th>author</th>\n",
       "      <th>affiliation</th>\n",
       "      <th>papers</th>\n",
       "      <th>citations</th>\n",
       "      <th>h_id</th>\n",
       "      <th>p_id</th>\n",
       "      <th>up_id</th>\n",
       "      <th>research</th>\n",
       "    </tr>\n",
       "    <tr>\n",
       "      <th>id</th>\n",
       "      <th></th>\n",
       "      <th></th>\n",
       "      <th></th>\n",
       "      <th></th>\n",
       "      <th></th>\n",
       "      <th></th>\n",
       "      <th></th>\n",
       "      <th></th>\n",
       "    </tr>\n",
       "  </thead>\n",
       "  <tbody>\n",
       "    <tr>\n",
       "      <th>1</th>\n",
       "      <td>O. Willum</td>\n",
       "      <td>Res. Center for Microperipherik, Technische Un...</td>\n",
       "      <td>1</td>\n",
       "      <td>0</td>\n",
       "      <td>0</td>\n",
       "      <td>0.0</td>\n",
       "      <td>0.0</td>\n",
       "      <td>new product;product group;active product;long ...</td>\n",
       "    </tr>\n",
       "    <tr>\n",
       "      <th>2</th>\n",
       "      <td>D. Wei</td>\n",
       "      <td>Dept. of Electr. &amp; Comput. Eng., Drexel Univ.,...</td>\n",
       "      <td>1</td>\n",
       "      <td>0</td>\n",
       "      <td>0</td>\n",
       "      <td>0.0</td>\n",
       "      <td>0.0</td>\n",
       "      <td>lowpass filter;multidimensional product filter...</td>\n",
       "    </tr>\n",
       "    <tr>\n",
       "      <th>3</th>\n",
       "      <td>Wenhu Wu</td>\n",
       "      <td></td>\n",
       "      <td>1</td>\n",
       "      <td>0</td>\n",
       "      <td>0</td>\n",
       "      <td>0.0</td>\n",
       "      <td>0.0</td>\n",
       "      <td>MAP adaptation;adaptation data;adaptation utte...</td>\n",
       "    </tr>\n",
       "    <tr>\n",
       "      <th>4</th>\n",
       "      <td>Zhiyuan Zeng</td>\n",
       "      <td>College of Geography Science, Nanjing Normal U...</td>\n",
       "      <td>1</td>\n",
       "      <td>0</td>\n",
       "      <td>0</td>\n",
       "      <td>0.0</td>\n",
       "      <td>0.0</td>\n",
       "      <td>normalized difference vegetation index;ratio v...</td>\n",
       "    </tr>\n",
       "    <tr>\n",
       "      <th>5</th>\n",
       "      <td>Erzen Hyko</td>\n",
       "      <td>Department of Computer Science, University of ...</td>\n",
       "      <td>1</td>\n",
       "      <td>0</td>\n",
       "      <td>0</td>\n",
       "      <td>0.0</td>\n",
       "      <td>0.0</td>\n",
       "      <td>information content;Spatio-Temporal Informatio...</td>\n",
       "    </tr>\n",
       "  </tbody>\n",
       "</table>\n",
       "</div>"
      ],
      "text/plain": [
       "          author                                        affiliation  papers  \\\n",
       "id                                                                            \n",
       "1      O. Willum  Res. Center for Microperipherik, Technische Un...       1   \n",
       "2         D. Wei  Dept. of Electr. & Comput. Eng., Drexel Univ.,...       1   \n",
       "3       Wenhu Wu                                                          1   \n",
       "4   Zhiyuan Zeng  College of Geography Science, Nanjing Normal U...       1   \n",
       "5     Erzen Hyko  Department of Computer Science, University of ...       1   \n",
       "\n",
       "    citations  h_id  p_id  up_id  \\\n",
       "id                                 \n",
       "1           0     0   0.0    0.0   \n",
       "2           0     0   0.0    0.0   \n",
       "3           0     0   0.0    0.0   \n",
       "4           0     0   0.0    0.0   \n",
       "5           0     0   0.0    0.0   \n",
       "\n",
       "                                             research  \n",
       "id                                                     \n",
       "1   new product;product group;active product;long ...  \n",
       "2   lowpass filter;multidimensional product filter...  \n",
       "3   MAP adaptation;adaptation data;adaptation utte...  \n",
       "4   normalized difference vegetation index;ratio v...  \n",
       "5   information content;Spatio-Temporal Informatio...  "
      ]
     },
     "execution_count": 16,
     "metadata": {},
     "output_type": "execute_result"
    }
   ],
   "source": [
    "# for nodes change the index\n",
    "nodes_df = author_df.set_index(['id'])\n",
    "nodes_df.head()"
   ]
  },
  {
   "cell_type": "code",
   "execution_count": 17,
   "metadata": {},
   "outputs": [],
   "source": [
    "# to later add attributes to nodes\n",
    "nodes_attributes = nodes_df.to_dict('index')"
   ]
  },
  {
   "cell_type": "markdown",
   "metadata": {},
   "source": [
    "# Creating the network"
   ]
  },
  {
   "cell_type": "code",
   "execution_count": 18,
   "metadata": {},
   "outputs": [
    {
     "data": {
      "text/plain": [
       "'Name: \\nType: Graph\\nNumber of nodes: 1560640\\nNumber of edges: 4258946\\nAverage degree:   5.4579'"
      ]
     },
     "execution_count": 18,
     "metadata": {},
     "output_type": "execute_result"
    }
   ],
   "source": [
    "G = nx.from_pandas_edgelist(df, source='source', target='target', edge_attr=True)\n",
    "nx.set_node_attributes(G, nodes_attributes)\n",
    "nx.info(G)"
   ]
  },
  {
   "cell_type": "code",
   "execution_count": 19,
   "metadata": {},
   "outputs": [
    {
     "name": "stdout",
     "output_type": "stream",
     "text": [
      "False\n"
     ]
    }
   ],
   "source": [
    "# To check if the network is connected\n",
    "print(nx.is_connected(G))"
   ]
  },
  {
   "cell_type": "code",
   "execution_count": 20,
   "metadata": {},
   "outputs": [
    {
     "data": {
      "text/plain": [
       "156240"
      ]
     },
     "execution_count": 20,
     "metadata": {},
     "output_type": "execute_result"
    }
   ],
   "source": [
    "# Check the number of connected components in the network\n",
    "nx.number_connected_components(G)"
   ]
  },
  {
   "cell_type": "code",
   "execution_count": 21,
   "metadata": {},
   "outputs": [],
   "source": [
    "node_sets = list(nx.connected_components(G))\n",
    "nn = []\n",
    "for i in node_sets:\n",
    "    nn.append(len(i))"
   ]
  },
  {
   "cell_type": "code",
   "execution_count": 22,
   "metadata": {},
   "outputs": [
    {
     "name": "stdout",
     "output_type": "stream",
     "text": [
      "1057194\n",
      "83\n",
      "73\n",
      "72\n",
      "71\n"
     ]
    }
   ],
   "source": [
    "# Five largest components\n",
    "nn.sort(reverse=True)\n",
    "print(nn[0])\n",
    "print(nn[1])\n",
    "print(nn[2])\n",
    "print(nn[3])\n",
    "print(nn[4])"
   ]
  },
  {
   "cell_type": "markdown",
   "metadata": {},
   "source": [
    "# Creating the network of scientists with research interests in Computer Science"
   ]
  },
  {
   "cell_type": "code",
   "execution_count": 23,
   "metadata": {
    "id": "i1QobmBuf43k"
   },
   "outputs": [],
   "source": [
    "selected_nodes = [n for n,v in G.nodes(data=True) if 'computer science' in v['research']]"
   ]
  },
  {
   "cell_type": "code",
   "execution_count": 24,
   "metadata": {
    "id": "Wb8pUQF7f5Ba"
   },
   "outputs": [
    {
     "data": {
      "text/plain": [
       "'Name: \\nType: Graph\\nNumber of nodes: 5258\\nNumber of edges: 7891\\nAverage degree:   3.0015'"
      ]
     },
     "execution_count": 24,
     "metadata": {},
     "output_type": "execute_result"
    }
   ],
   "source": [
    "G_sub = G.subgraph(selected_nodes)\n",
    "nx.info(G_sub)"
   ]
  },
  {
   "cell_type": "code",
   "execution_count": 25,
   "metadata": {},
   "outputs": [
    {
     "name": "stdout",
     "output_type": "stream",
     "text": [
      "False\n"
     ]
    }
   ],
   "source": [
    "# To check if the network is connected\n",
    "print(nx.is_connected(G_sub))"
   ]
  },
  {
   "cell_type": "code",
   "execution_count": 26,
   "metadata": {
    "id": "wBSP4gIBQjbA"
   },
   "outputs": [
    {
     "data": {
      "text/plain": [
       "'Name: \\nType: Graph\\nNumber of nodes: 1707\\nNumber of edges: 4923\\nAverage degree:   5.7680'"
      ]
     },
     "execution_count": 26,
     "metadata": {},
     "output_type": "execute_result"
    }
   ],
   "source": [
    "Gcc = sorted(nx.connected_components(G_sub), key=len, reverse=True)\n",
    "G_data = G.subgraph(Gcc[0])\n",
    "nx.info(G_data)"
   ]
  },
  {
   "cell_type": "code",
   "execution_count": 27,
   "metadata": {
    "colab": {
     "base_uri": "https://localhost:8080/"
    },
    "id": "n2Ga10Y8cjBT",
    "outputId": "2110bc45-cb3d-4a51-ee18-caca4abe89db"
   },
   "outputs": [
    {
     "name": "stdout",
     "output_type": "stream",
     "text": [
      "True\n"
     ]
    }
   ],
   "source": [
    "# To check if the network is connected\n",
    "print(nx.is_connected(G_data))"
   ]
  },
  {
   "cell_type": "markdown",
   "metadata": {
    "id": "m6NfNeQi6UXE"
   },
   "source": [
    "# Descriptive analysis "
   ]
  },
  {
   "cell_type": "code",
   "execution_count": 28,
   "metadata": {
    "colab": {
     "base_uri": "https://localhost:8080/",
     "height": 335
    },
    "id": "-DVqa0FVNdYC",
    "outputId": "e716b434-25db-462b-bd12-c10fce5d31a0"
   },
   "outputs": [
    {
     "data": {
      "text/plain": [
       "Text(0.5, 0, 'Degree')"
      ]
     },
     "execution_count": 28,
     "metadata": {},
     "output_type": "execute_result"
    },
    {
     "data": {
      "image/png": "[encoded data removed]",
      "text/plain": [
       "<Figure size 432x288 with 1 Axes>"
      ]
     },
     "metadata": {
      "needs_background": "light"
     },
     "output_type": "display_data"
    }
   ],
   "source": [
    "#Degree plot\n",
    "degrees = [G_data.degree(n, weight='weight') for n in G_data.nodes()]\n",
    "plt.hist(degrees, range = (0, 50))\n",
    "plt.title(\"Degree Histogram\")\n",
    "plt.ylabel(\"Count\")\n",
    "plt.xlabel(\"Degree\")"
   ]
  },
  {
   "cell_type": "code",
   "execution_count": 29,
   "metadata": {
    "id": "gxqb1stOTO8Z"
   },
   "outputs": [
    {
     "data": {
      "image/png": "[encoded data removed]",
      "text/plain": [
       "<Figure size 432x288 with 1 Axes>"
      ]
     },
     "metadata": {
      "needs_background": "light"
     },
     "output_type": "display_data"
    }
   ],
   "source": [
    "degree_sequence = sorted([d for n, d in G_data.degree(weight='weight')], reverse=True)\n",
    "plt.loglog(degree_sequence,marker='*')\n",
    "plt.show()"
   ]
  },
  {
   "cell_type": "code",
   "execution_count": 30,
   "metadata": {
    "colab": {
     "base_uri": "https://localhost:8080/"
    },
    "id": "29ha07CyNths",
    "outputId": "06348282-30b2-4f2e-e56a-4be50cd5504d"
   },
   "outputs": [
    {
     "data": {
      "text/plain": [
       "0.285031708800278"
      ]
     },
     "execution_count": 30,
     "metadata": {},
     "output_type": "execute_result"
    }
   ],
   "source": [
    "# Graph transitivity, the fraction of all possible triangles present in G.\n",
    "nx.transitivity(G_data)"
   ]
  },
  {
   "cell_type": "code",
   "execution_count": 31,
   "metadata": {
    "id": "wwBKTZzRLYKz"
   },
   "outputs": [
    {
     "data": {
      "text/plain": [
       "0.00338101644768696"
      ]
     },
     "execution_count": 31,
     "metadata": {},
     "output_type": "execute_result"
    }
   ],
   "source": [
    "# Edge density, the ratio of existing edges over possible ones. For complete graph it is equal to 1.\n",
    "nx.density(G_data)"
   ]
  },
  {
   "cell_type": "code",
   "execution_count": 32,
   "metadata": {
    "id": "984vF-MiLYOK"
   },
   "outputs": [
    {
     "data": {
      "text/plain": [
       "0.029457995756242583"
      ]
     },
     "execution_count": 32,
     "metadata": {},
     "output_type": "execute_result"
    }
   ],
   "source": [
    "# Clustering coefficient,how clustered the network is (what fraction of the nodes are connected on average)\n",
    "nx.average_clustering(G_data, weight = 'weight')"
   ]
  },
  {
   "cell_type": "code",
   "execution_count": 33,
   "metadata": {
    "id": "SKGFsciRLYSf"
   },
   "outputs": [
    {
     "data": {
      "text/plain": [
       "13"
      ]
     },
     "execution_count": 33,
     "metadata": {},
     "output_type": "execute_result"
    }
   ],
   "source": [
    "# Diameter, the longest distance between two nodes (the maximum length of shortest length)\n",
    "nx.diameter(G_data)"
   ]
  },
  {
   "cell_type": "code",
   "execution_count": 34,
   "metadata": {
    "id": "UzoqiMl5MW54"
   },
   "outputs": [
    {
     "data": {
      "text/plain": [
       "6.384910488568209"
      ]
     },
     "execution_count": 34,
     "metadata": {},
     "output_type": "execute_result"
    }
   ],
   "source": [
    "# Average path length, the average of the shortest paths for all pairs of nodes. \n",
    "nx.average_shortest_path_length(G_data, weight = 'weight')"
   ]
  },
  {
   "cell_type": "markdown",
   "metadata": {},
   "source": [
    "Centrality"
   ]
  },
  {
   "cell_type": "code",
   "execution_count": 35,
   "metadata": {},
   "outputs": [
    {
     "data": {
      "text/html": [
       "<div>\n",
       "<style scoped>\n",
       "    .dataframe tbody tr th:only-of-type {\n",
       "        vertical-align: middle;\n",
       "    }\n",
       "\n",
       "    .dataframe tbody tr th {\n",
       "        vertical-align: top;\n",
       "    }\n",
       "\n",
       "    .dataframe thead th {\n",
       "        text-align: right;\n",
       "    }\n",
       "</style>\n",
       "<table border=\"1\" class=\"dataframe\">\n",
       "  <thead>\n",
       "    <tr style=\"text-align: right;\">\n",
       "      <th></th>\n",
       "      <th>node</th>\n",
       "      <th>author</th>\n",
       "      <th>centrality</th>\n",
       "    </tr>\n",
       "  </thead>\n",
       "  <tbody>\n",
       "    <tr>\n",
       "      <th>187</th>\n",
       "      <td>910242</td>\n",
       "      <td>Robert David McCartney</td>\n",
       "      <td>1.0</td>\n",
       "    </tr>\n",
       "    <tr>\n",
       "      <th>1577</th>\n",
       "      <td>490858</td>\n",
       "      <td>Kathryn E. Sanders</td>\n",
       "      <td>0.865497</td>\n",
       "    </tr>\n",
       "    <tr>\n",
       "      <th>543</th>\n",
       "      <td>1174026</td>\n",
       "      <td>Mark Guzdial</td>\n",
       "      <td>0.795322</td>\n",
       "    </tr>\n",
       "    <tr>\n",
       "      <th>1441</th>\n",
       "      <td>244431</td>\n",
       "      <td>Beth Simon</td>\n",
       "      <td>0.707602</td>\n",
       "    </tr>\n",
       "    <tr>\n",
       "      <th>730</th>\n",
       "      <td>126337</td>\n",
       "      <td>Lynda Thomas</td>\n",
       "      <td>0.695906</td>\n",
       "    </tr>\n",
       "  </tbody>\n",
       "</table>\n",
       "</div>"
      ],
      "text/plain": [
       "         node                  author centrality\n",
       "187    910242  Robert David McCartney        1.0\n",
       "1577   490858      Kathryn E. Sanders   0.865497\n",
       "543   1174026            Mark Guzdial   0.795322\n",
       "1441   244431              Beth Simon   0.707602\n",
       "730    126337            Lynda Thomas   0.695906"
      ]
     },
     "execution_count": 35,
     "metadata": {},
     "output_type": "execute_result"
    }
   ],
   "source": [
    "# Degree centrality\n",
    "degree = G_data.degree(weight='weight')\n",
    "max_degree = max(dict(degree).values())\n",
    "\n",
    "degree_c = pd.DataFrame(index=range(1707), columns=['node', 'author', 'centrality'])\n",
    "\n",
    "for i in range(1707): # the number of nodes\n",
    "    degree_c.loc[i,'node'] = list(degree)[i][0]\n",
    "    degree_c.loc[i,'author'] = G_data.nodes[degree_c.loc[i,'node']]['author']  \n",
    "    degree_c.loc[i,'centrality'] = list(degree)[i][1]/max_degree\n",
    "\n",
    "degree_c = degree_c.sort_values(by='centrality', ascending=False)\n",
    "\n",
    "degree_c.head()"
   ]
  },
  {
   "cell_type": "code",
   "execution_count": 36,
   "metadata": {
    "id": "avWz-CLSMXDR"
   },
   "outputs": [
    {
     "name": "stdout",
     "output_type": "stream",
     "text": [
      "1262548 John Impagliazzo 0.49332894959470275\n",
      "1201617 Henry M Walker 0.48968000486939783\n",
      "431339 Deborah L. Knox 0.4869744471603487\n",
      "1174026 Mark Guzdial 0.48600301591627587\n",
      "1481761 Owen Astrachan 0.4852329346844629\n"
     ]
    }
   ],
   "source": [
    "# Closeness centrality\n",
    "\n",
    "G_distance_dict = {(e1, e2): 1 / weight for e1, e2, weight in G_data.edges(data='weight')}\n",
    "\n",
    "nx.set_edge_attributes(G_data,G_distance_dict, 'distance')\n",
    "closeness_centrality = nx.closeness_centrality(G_data, distance='distance')\n",
    "\n",
    "for node in sorted(closeness_centrality, key=closeness_centrality.get, reverse=True)[:5]:\n",
    "    print(node,G_data.nodes[node]['author'], closeness_centrality[node])"
   ]
  },
  {
   "cell_type": "code",
   "execution_count": 37,
   "metadata": {
    "id": "RN2CYDhoMXIw"
   },
   "outputs": [
    {
     "name": "stdout",
     "output_type": "stream",
     "text": [
      "910242 Robert David McCartney 0.46823219679197375\n",
      "490858 Kathryn E. Sanders 0.42532092326817106\n",
      "1246704 Carol Sue Zander 0.3446818791084551\n",
      "126337 Lynda Thomas 0.3108467172189892\n",
      "130150 Anna Eckerdal 0.29098905407244385\n"
     ]
    }
   ],
   "source": [
    "# Eigenvector centrality\n",
    "eigenvector_centrality_weighted = nx.eigenvector_centrality(G_data, weight='weight')\n",
    "\n",
    "for node in sorted(eigenvector_centrality_weighted, key=eigenvector_centrality_weighted.get, reverse=True)[:5]:\n",
    "    print(node, G_data.nodes[node]['author'], eigenvector_centrality_weighted[node])"
   ]
  },
  {
   "cell_type": "code",
   "execution_count": 38,
   "metadata": {
    "id": "UKPNAMzJNH78"
   },
   "outputs": [
    {
     "name": "stdout",
     "output_type": "stream",
     "text": [
      "331047 N. B. Dale 0.09178785340422166\n",
      "1481761 Owen Astrachan 0.09009610615778506\n",
      "1174026 Mark Guzdial 0.08559263481607282\n",
      "392161 Ursula Wolz 0.08496052325046012\n",
      "1088800 Joyce Currie Little 0.06851735028954954\n"
     ]
    }
   ],
   "source": [
    "# Betweenness centrality\n",
    "betweenness_centrality_weighted = nx.betweenness_centrality(G_data, weight='weight')\n",
    "\n",
    "#Sort for identifying most inflential nodes using betweenness centrality\n",
    "for node in sorted(betweenness_centrality_weighted, key=betweenness_centrality_weighted.get, reverse=True)[:5]:\n",
    "    print(node, G_data.nodes[node]['author'], betweenness_centrality_weighted[node])"
   ]
  },
  {
   "cell_type": "code",
   "execution_count": 39,
   "metadata": {
    "id": "lb560DFSVVAT"
   },
   "outputs": [
    {
     "name": "stdout",
     "output_type": "stream",
     "text": [
      "1174026 Mark Guzdial 0.006334169064114092\n",
      "1151075 Gerald L. Engel 0.004861331633849172\n",
      "467782 Susan Rodger 0.004831532009258194\n",
      "331047 N. B. Dale 0.004683186467170081\n",
      "910242 Robert David McCartney 0.00462634623527315\n"
     ]
    }
   ],
   "source": [
    "# Pagerank\n",
    "pagerank = nx.pagerank(G_data, weight='weight')\n",
    "\n",
    "for node in sorted(pagerank, key=pagerank.get, reverse=True)[:5]:\n",
    "    print(node,G_data.nodes[node]['author'], pagerank[node])"
   ]
  },
  {
   "cell_type": "markdown",
   "metadata": {
    "id": "6SMFGrCjsBr9"
   },
   "source": [
    "# From the network get the csv file"
   ]
  },
  {
   "cell_type": "code",
   "execution_count": 40,
   "metadata": {
    "id": "cbu6U3lOsDnC"
   },
   "outputs": [
    {
     "name": "stdout",
     "output_type": "stream",
     "text": [
      "Dimentions (4923, 3)\n"
     ]
    },
    {
     "data": {
      "text/html": [
       "<div>\n",
       "<style scoped>\n",
       "    .dataframe tbody tr th:only-of-type {\n",
       "        vertical-align: middle;\n",
       "    }\n",
       "\n",
       "    .dataframe tbody tr th {\n",
       "        vertical-align: top;\n",
       "    }\n",
       "\n",
       "    .dataframe thead th {\n",
       "        text-align: right;\n",
       "    }\n",
       "</style>\n",
       "<table border=\"1\" class=\"dataframe\">\n",
       "  <thead>\n",
       "    <tr style=\"text-align: right;\">\n",
       "      <th></th>\n",
       "      <th>source</th>\n",
       "      <th>target</th>\n",
       "      <th>weight</th>\n",
       "    </tr>\n",
       "  </thead>\n",
       "  <tbody>\n",
       "    <tr>\n",
       "      <th>0</th>\n",
       "      <td>1605636</td>\n",
       "      <td>64684</td>\n",
       "      <td>1</td>\n",
       "    </tr>\n",
       "    <tr>\n",
       "      <th>1</th>\n",
       "      <td>1605636</td>\n",
       "      <td>1343349</td>\n",
       "      <td>1</td>\n",
       "    </tr>\n",
       "    <tr>\n",
       "      <th>2</th>\n",
       "      <td>1605636</td>\n",
       "      <td>1352169</td>\n",
       "      <td>1</td>\n",
       "    </tr>\n",
       "    <tr>\n",
       "      <th>3</th>\n",
       "      <td>1605636</td>\n",
       "      <td>451036</td>\n",
       "      <td>1</td>\n",
       "    </tr>\n",
       "    <tr>\n",
       "      <th>4</th>\n",
       "      <td>1605636</td>\n",
       "      <td>569658</td>\n",
       "      <td>1</td>\n",
       "    </tr>\n",
       "  </tbody>\n",
       "</table>\n",
       "</div>"
      ],
      "text/plain": [
       "    source   target  weight\n",
       "0  1605636    64684       1\n",
       "1  1605636  1343349       1\n",
       "2  1605636  1352169       1\n",
       "3  1605636   451036       1\n",
       "4  1605636   569658       1"
      ]
     },
     "execution_count": 40,
     "metadata": {},
     "output_type": "execute_result"
    }
   ],
   "source": [
    "df_cc = nx.to_pandas_edgelist(G_data, source='source', target='target')\n",
    "df_cc = df_cc.drop(columns = ['distance'])\n",
    "print('Dimentions', df_cc.shape)\n",
    "df_cc.head()"
   ]
  },
  {
   "cell_type": "code",
   "execution_count": 41,
   "metadata": {},
   "outputs": [],
   "source": [
    "df_cc.to_csv('df_cc.csv', index=False)"
   ]
  }
 ],
 "metadata": {
  "colab": {
   "collapsed_sections": [],
   "name": "NS_Project_EN.ipynb",
   "provenance": [],
   "toc_visible": true
  },
  "kernelspec": {
   "display_name": "Python 3",
   "language": "python",
   "name": "python3"
  },
  "language_info": {
   "codemirror_mode": {
    "name": "ipython",
    "version": 3
   },
   "file_extension": ".py",
   "mimetype": "text/x-python",
   "name": "python",
   "nbconvert_exporter": "python",
   "pygments_lexer": "ipython3",
   "version": "3.9.2"
  }
 },
 "nbformat": 4,
 "nbformat_minor": 1
}
